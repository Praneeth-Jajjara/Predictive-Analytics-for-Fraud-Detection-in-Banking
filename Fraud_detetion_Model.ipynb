{
  "nbformat": 4,
  "nbformat_minor": 0,
  "metadata": {
    "colab": {
      "provenance": []
    },
    "kernelspec": {
      "name": "python3",
      "display_name": "Python 3"
    },
    "language_info": {
      "name": "python"
    }
  },
  "cells": [
    {
      "cell_type": "markdown",
      "source": [
        "## Business Objective\n",
        "\n",
        "Develop a fraud analytics model that helps us (Kaspersky) detect fraud from good and normal user activity and identify precursors to the events"
      ],
      "metadata": {
        "id": "CKbgwaf3JmS9"
      }
    },
    {
      "cell_type": "markdown",
      "source": [
        "Process followed:\n",
        "\n",
        "\n",
        "1.   Understanding the Data (Exploratory Data Analysis)\n",
        "2. Data cleaning - eliminating features that are redundant\n",
        "3.   Feature engineering - creating new columns based on existing that would add depth to the outcome\n",
        "4. Clustering - basic clustering to determine which transactions are different than others\n",
        "5. Cluster Analysis - understanding why those clusters were formed, what makes them a cluster, cluster characteristics\n",
        "6. Data Engineering - transposing the data such that the fraud event becomes the target variable, and all other becomes features for the same\n",
        "\n"
      ],
      "metadata": {
        "id": "zMHcjq0gJK-b"
      }
    },
    {
      "cell_type": "code",
      "source": [
        "import pandas as pd\n",
        "import numpy as np\n",
        "import matplotlib.pyplot as plt\n",
        "import seaborn as sns"
      ],
      "metadata": {
        "id": "Da_u8CiwLhm-"
      },
      "execution_count": 1,
      "outputs": []
    },
    {
      "cell_type": "code",
      "source": [
        "df = pd.read_csv('https://raw.githubusercontent.com/Kenrich005/ISB_Datathon_23/main/Dataset_Datathon_Fraud_Detection_28122022.csv',\n",
        "                 encoding= 'unicode_escape')\n",
        "df.shape"
      ],
      "metadata": {
        "colab": {
          "base_uri": "https://localhost:8080/"
        },
        "id": "tkN-p1pOMeM9",
        "outputId": "59f64d18-0447-4bbc-aa53-2e5f04edc56b"
      },
      "execution_count": 2,
      "outputs": [
        {
          "output_type": "execute_result",
          "data": {
            "text/plain": [
              "(10969, 21)"
            ]
          },
          "metadata": {},
          "execution_count": 2
        }
      ]
    },
    {
      "cell_type": "code",
      "source": [
        "df.head()"
      ],
      "metadata": {
        "colab": {
          "base_uri": "https://localhost:8080/",
          "height": 490
        },
        "id": "xWRLO7sBMfzt",
        "outputId": "d6a11da1-de18-43d3-d7e4-9ead97e93300"
      },
      "execution_count": 3,
      "outputs": [
        {
          "output_type": "execute_result",
          "data": {
            "text/plain": [
              "     customer_id      event_dttm_Deli    event_type_nm  \\\n",
              "0  customer_id_0  2022-10-01 10:51:36  CHANGE_PASSWORD   \n",
              "1  customer_id_0  2022-10-01 11:15:21   SESSION_SIGNIN   \n",
              "2  customer_id_0  2022-10-01 11:31:55   SESSION_SIGNIN   \n",
              "3  customer_id_0  2022-10-01 11:45:42   SESSION_SIGNIN   \n",
              "4  customer_id_0  2022-10-03 10:28:24          DEPOSIT   \n",
              "\n",
              "  client_defined_event_type_nm               event_desc  \\\n",
              "0                        RENEW  Login password recovery   \n",
              "1               SESSION_SIGNIN                    Login   \n",
              "2               SESSION_SIGNIN                    Login   \n",
              "3               SESSION_SIGNIN                    Login   \n",
              "4                      100_BKO            Payment order   \n",
              "\n",
              "   operaton_amt_100 (rupees)  active phone call remote desktop protokol  \\\n",
              "0                        0.0                NaN                     NaN   \n",
              "1                        0.0                NaN                     NaN   \n",
              "2                        0.0                NaN                     NaN   \n",
              "3                        0.0                NaN                     NaN   \n",
              "4                   116820.0                1.0                   False   \n",
              "\n",
              "   emulator              f  ...   os device_model screensize  \\\n",
              "0       NaN  St Petersburg  ...  NaN          NaN        NaN   \n",
              "1       NaN  St Petersburg  ...  NaN          NaN        NaN   \n",
              "2       NaN  St Petersburg  ...  NaN          NaN        NaN   \n",
              "3       NaN  St Petersburg  ...  NaN          NaN        NaN   \n",
              "4       NaN            NaN  ...  iOS       iPhone    375x812   \n",
              "\n",
              "  agentconnectiontype  screen_hash  device for user reciever  \\\n",
              "0                 NaN  287067538.0              new      old   \n",
              "1                 NaN  287067538.0              new      old   \n",
              "2                 NaN -205759950.0              new      old   \n",
              "3                 NaN  287067538.0              new      old   \n",
              "4                wifi          NaN              NaN      old   \n",
              "\n",
              "            password change fast change of ip ip not equal to previous  \n",
              "0                       NaN               NaN              IP differes  \n",
              "1  happened on the same day               NaN              IP differes  \n",
              "2  happened on the same day               NaN              IP differes  \n",
              "3  happened on the same day               NaN              IP differes  \n",
              "4                       NaN               NaN                      NaN  \n",
              "\n",
              "[5 rows x 21 columns]"
            ],
            "text/html": [
              "\n",
              "  <div id=\"df-551bac77-f03f-41d2-bd65-2df02e835f16\">\n",
              "    <div class=\"colab-df-container\">\n",
              "      <div>\n",
              "<style scoped>\n",
              "    .dataframe tbody tr th:only-of-type {\n",
              "        vertical-align: middle;\n",
              "    }\n",
              "\n",
              "    .dataframe tbody tr th {\n",
              "        vertical-align: top;\n",
              "    }\n",
              "\n",
              "    .dataframe thead th {\n",
              "        text-align: right;\n",
              "    }\n",
              "</style>\n",
              "<table border=\"1\" class=\"dataframe\">\n",
              "  <thead>\n",
              "    <tr style=\"text-align: right;\">\n",
              "      <th></th>\n",
              "      <th>customer_id</th>\n",
              "      <th>event_dttm_Deli</th>\n",
              "      <th>event_type_nm</th>\n",
              "      <th>client_defined_event_type_nm</th>\n",
              "      <th>event_desc</th>\n",
              "      <th>operaton_amt_100 (rupees)</th>\n",
              "      <th>active phone call</th>\n",
              "      <th>remote desktop protokol</th>\n",
              "      <th>emulator</th>\n",
              "      <th>f</th>\n",
              "      <th>...</th>\n",
              "      <th>os</th>\n",
              "      <th>device_model</th>\n",
              "      <th>screensize</th>\n",
              "      <th>agentconnectiontype</th>\n",
              "      <th>screen_hash</th>\n",
              "      <th>device for user</th>\n",
              "      <th>reciever</th>\n",
              "      <th>password change</th>\n",
              "      <th>fast change of ip</th>\n",
              "      <th>ip not equal to previous</th>\n",
              "    </tr>\n",
              "  </thead>\n",
              "  <tbody>\n",
              "    <tr>\n",
              "      <th>0</th>\n",
              "      <td>customer_id_0</td>\n",
              "      <td>2022-10-01 10:51:36</td>\n",
              "      <td>CHANGE_PASSWORD</td>\n",
              "      <td>RENEW</td>\n",
              "      <td>Login password recovery</td>\n",
              "      <td>0.0</td>\n",
              "      <td>NaN</td>\n",
              "      <td>NaN</td>\n",
              "      <td>NaN</td>\n",
              "      <td>St Petersburg</td>\n",
              "      <td>...</td>\n",
              "      <td>NaN</td>\n",
              "      <td>NaN</td>\n",
              "      <td>NaN</td>\n",
              "      <td>NaN</td>\n",
              "      <td>287067538.0</td>\n",
              "      <td>new</td>\n",
              "      <td>old</td>\n",
              "      <td>NaN</td>\n",
              "      <td>NaN</td>\n",
              "      <td>IP differes</td>\n",
              "    </tr>\n",
              "    <tr>\n",
              "      <th>1</th>\n",
              "      <td>customer_id_0</td>\n",
              "      <td>2022-10-01 11:15:21</td>\n",
              "      <td>SESSION_SIGNIN</td>\n",
              "      <td>SESSION_SIGNIN</td>\n",
              "      <td>Login</td>\n",
              "      <td>0.0</td>\n",
              "      <td>NaN</td>\n",
              "      <td>NaN</td>\n",
              "      <td>NaN</td>\n",
              "      <td>St Petersburg</td>\n",
              "      <td>...</td>\n",
              "      <td>NaN</td>\n",
              "      <td>NaN</td>\n",
              "      <td>NaN</td>\n",
              "      <td>NaN</td>\n",
              "      <td>287067538.0</td>\n",
              "      <td>new</td>\n",
              "      <td>old</td>\n",
              "      <td>happened on the same day</td>\n",
              "      <td>NaN</td>\n",
              "      <td>IP differes</td>\n",
              "    </tr>\n",
              "    <tr>\n",
              "      <th>2</th>\n",
              "      <td>customer_id_0</td>\n",
              "      <td>2022-10-01 11:31:55</td>\n",
              "      <td>SESSION_SIGNIN</td>\n",
              "      <td>SESSION_SIGNIN</td>\n",
              "      <td>Login</td>\n",
              "      <td>0.0</td>\n",
              "      <td>NaN</td>\n",
              "      <td>NaN</td>\n",
              "      <td>NaN</td>\n",
              "      <td>St Petersburg</td>\n",
              "      <td>...</td>\n",
              "      <td>NaN</td>\n",
              "      <td>NaN</td>\n",
              "      <td>NaN</td>\n",
              "      <td>NaN</td>\n",
              "      <td>-205759950.0</td>\n",
              "      <td>new</td>\n",
              "      <td>old</td>\n",
              "      <td>happened on the same day</td>\n",
              "      <td>NaN</td>\n",
              "      <td>IP differes</td>\n",
              "    </tr>\n",
              "    <tr>\n",
              "      <th>3</th>\n",
              "      <td>customer_id_0</td>\n",
              "      <td>2022-10-01 11:45:42</td>\n",
              "      <td>SESSION_SIGNIN</td>\n",
              "      <td>SESSION_SIGNIN</td>\n",
              "      <td>Login</td>\n",
              "      <td>0.0</td>\n",
              "      <td>NaN</td>\n",
              "      <td>NaN</td>\n",
              "      <td>NaN</td>\n",
              "      <td>St Petersburg</td>\n",
              "      <td>...</td>\n",
              "      <td>NaN</td>\n",
              "      <td>NaN</td>\n",
              "      <td>NaN</td>\n",
              "      <td>NaN</td>\n",
              "      <td>287067538.0</td>\n",
              "      <td>new</td>\n",
              "      <td>old</td>\n",
              "      <td>happened on the same day</td>\n",
              "      <td>NaN</td>\n",
              "      <td>IP differes</td>\n",
              "    </tr>\n",
              "    <tr>\n",
              "      <th>4</th>\n",
              "      <td>customer_id_0</td>\n",
              "      <td>2022-10-03 10:28:24</td>\n",
              "      <td>DEPOSIT</td>\n",
              "      <td>100_BKO</td>\n",
              "      <td>Payment order</td>\n",
              "      <td>116820.0</td>\n",
              "      <td>1.0</td>\n",
              "      <td>False</td>\n",
              "      <td>NaN</td>\n",
              "      <td>NaN</td>\n",
              "      <td>...</td>\n",
              "      <td>iOS</td>\n",
              "      <td>iPhone</td>\n",
              "      <td>375x812</td>\n",
              "      <td>wifi</td>\n",
              "      <td>NaN</td>\n",
              "      <td>NaN</td>\n",
              "      <td>old</td>\n",
              "      <td>NaN</td>\n",
              "      <td>NaN</td>\n",
              "      <td>NaN</td>\n",
              "    </tr>\n",
              "  </tbody>\n",
              "</table>\n",
              "<p>5 rows × 21 columns</p>\n",
              "</div>\n",
              "      <button class=\"colab-df-convert\" onclick=\"convertToInteractive('df-551bac77-f03f-41d2-bd65-2df02e835f16')\"\n",
              "              title=\"Convert this dataframe to an interactive table.\"\n",
              "              style=\"display:none;\">\n",
              "        \n",
              "  <svg xmlns=\"http://www.w3.org/2000/svg\" height=\"24px\"viewBox=\"0 0 24 24\"\n",
              "       width=\"24px\">\n",
              "    <path d=\"M0 0h24v24H0V0z\" fill=\"none\"/>\n",
              "    <path d=\"M18.56 5.44l.94 2.06.94-2.06 2.06-.94-2.06-.94-.94-2.06-.94 2.06-2.06.94zm-11 1L8.5 8.5l.94-2.06 2.06-.94-2.06-.94L8.5 2.5l-.94 2.06-2.06.94zm10 10l.94 2.06.94-2.06 2.06-.94-2.06-.94-.94-2.06-.94 2.06-2.06.94z\"/><path d=\"M17.41 7.96l-1.37-1.37c-.4-.4-.92-.59-1.43-.59-.52 0-1.04.2-1.43.59L10.3 9.45l-7.72 7.72c-.78.78-.78 2.05 0 2.83L4 21.41c.39.39.9.59 1.41.59.51 0 1.02-.2 1.41-.59l7.78-7.78 2.81-2.81c.8-.78.8-2.07 0-2.86zM5.41 20L4 18.59l7.72-7.72 1.47 1.35L5.41 20z\"/>\n",
              "  </svg>\n",
              "      </button>\n",
              "      \n",
              "  <style>\n",
              "    .colab-df-container {\n",
              "      display:flex;\n",
              "      flex-wrap:wrap;\n",
              "      gap: 12px;\n",
              "    }\n",
              "\n",
              "    .colab-df-convert {\n",
              "      background-color: #E8F0FE;\n",
              "      border: none;\n",
              "      border-radius: 50%;\n",
              "      cursor: pointer;\n",
              "      display: none;\n",
              "      fill: #1967D2;\n",
              "      height: 32px;\n",
              "      padding: 0 0 0 0;\n",
              "      width: 32px;\n",
              "    }\n",
              "\n",
              "    .colab-df-convert:hover {\n",
              "      background-color: #E2EBFA;\n",
              "      box-shadow: 0px 1px 2px rgba(60, 64, 67, 0.3), 0px 1px 3px 1px rgba(60, 64, 67, 0.15);\n",
              "      fill: #174EA6;\n",
              "    }\n",
              "\n",
              "    [theme=dark] .colab-df-convert {\n",
              "      background-color: #3B4455;\n",
              "      fill: #D2E3FC;\n",
              "    }\n",
              "\n",
              "    [theme=dark] .colab-df-convert:hover {\n",
              "      background-color: #434B5C;\n",
              "      box-shadow: 0px 1px 3px 1px rgba(0, 0, 0, 0.15);\n",
              "      filter: drop-shadow(0px 1px 2px rgba(0, 0, 0, 0.3));\n",
              "      fill: #FFFFFF;\n",
              "    }\n",
              "  </style>\n",
              "\n",
              "      <script>\n",
              "        const buttonEl =\n",
              "          document.querySelector('#df-551bac77-f03f-41d2-bd65-2df02e835f16 button.colab-df-convert');\n",
              "        buttonEl.style.display =\n",
              "          google.colab.kernel.accessAllowed ? 'block' : 'none';\n",
              "\n",
              "        async function convertToInteractive(key) {\n",
              "          const element = document.querySelector('#df-551bac77-f03f-41d2-bd65-2df02e835f16');\n",
              "          const dataTable =\n",
              "            await google.colab.kernel.invokeFunction('convertToInteractive',\n",
              "                                                     [key], {});\n",
              "          if (!dataTable) return;\n",
              "\n",
              "          const docLinkHtml = 'Like what you see? Visit the ' +\n",
              "            '<a target=\"_blank\" href=https://colab.research.google.com/notebooks/data_table.ipynb>data table notebook</a>'\n",
              "            + ' to learn more about interactive tables.';\n",
              "          element.innerHTML = '';\n",
              "          dataTable['output_type'] = 'display_data';\n",
              "          await google.colab.output.renderOutput(dataTable, element);\n",
              "          const docLink = document.createElement('div');\n",
              "          docLink.innerHTML = docLinkHtml;\n",
              "          element.appendChild(docLink);\n",
              "        }\n",
              "      </script>\n",
              "    </div>\n",
              "  </div>\n",
              "  "
            ]
          },
          "metadata": {},
          "execution_count": 3
        }
      ]
    },
    {
      "cell_type": "code",
      "source": [
        "df.info()"
      ],
      "metadata": {
        "colab": {
          "base_uri": "https://localhost:8080/"
        },
        "id": "932fuasDMiK6",
        "outputId": "c8493dd0-9c26-4c2e-81d0-52eb6166b77d"
      },
      "execution_count": 4,
      "outputs": [
        {
          "output_type": "stream",
          "name": "stdout",
          "text": [
            "<class 'pandas.core.frame.DataFrame'>\n",
            "RangeIndex: 10969 entries, 0 to 10968\n",
            "Data columns (total 21 columns):\n",
            " #   Column                        Non-Null Count  Dtype  \n",
            "---  ------                        --------------  -----  \n",
            " 0   customer_id                   10969 non-null  object \n",
            " 1   event_dttm_Deli               10969 non-null  object \n",
            " 2   event_type_nm                 10969 non-null  object \n",
            " 3   client_defined_event_type_nm  9554 non-null   object \n",
            " 4   event_desc                    10800 non-null  object \n",
            " 5   operaton_amt_100 (rupees)     10969 non-null  float64\n",
            " 6   active phone call             3778 non-null   float64\n",
            " 7   remote desktop protokol       3786 non-null   object \n",
            " 8   emulator                      2923 non-null   float64\n",
            " 9   f                             4666 non-null   object \n",
            " 10  device_id                     3786 non-null   object \n",
            " 11  os                            3786 non-null   object \n",
            " 12  device_model                  3786 non-null   object \n",
            " 13  screensize                    3786 non-null   object \n",
            " 14  agentconnectiontype           863 non-null    object \n",
            " 15  screen_hash                   1167 non-null   float64\n",
            " 16  device for user               4727 non-null   object \n",
            " 17  reciever                      10969 non-null  object \n",
            " 18  password change               1707 non-null   object \n",
            " 19  fast change of ip             128 non-null    object \n",
            " 20  ip not equal to previous      3796 non-null   object \n",
            "dtypes: float64(4), object(17)\n",
            "memory usage: 1.8+ MB\n"
          ]
        }
      ]
    },
    {
      "cell_type": "markdown",
      "source": [
        "## Understanding the data\n",
        "We are given with user activity history. \n",
        "Each activity is defined by 20 features. \n",
        "We see that considerable amount of data is null. \n",
        "Most importantly, we notice that we do not have a target variable. \n",
        "i.e. we do not know which activity is fraud.  \n",
        "\n",
        "So, our foremost task then becomes to identify which transaction should be considered fraud, and have a strong backing to support it.  \n",
        "Because, if our understanding of fraud transaction is incorrect, the model built therefore would also be incorrect.   \n",
        "  \n",
        "Let us understand each parameter one at a time"
      ],
      "metadata": {
        "id": "oJoiTOHzMtLb"
      }
    },
    {
      "cell_type": "markdown",
      "source": [
        "### **customer_id**"
      ],
      "metadata": {
        "id": "yerB6vh7OTXx"
      }
    },
    {
      "cell_type": "code",
      "source": [
        "# Number of unique customer_id\n",
        "df.customer_id.nunique()"
      ],
      "metadata": {
        "colab": {
          "base_uri": "https://localhost:8080/"
        },
        "id": "vnxCSjkKMlil",
        "outputId": "51c04b40-9ee0-4ee8-abeb-71ea47113572"
      },
      "execution_count": 5,
      "outputs": [
        {
          "output_type": "execute_result",
          "data": {
            "text/plain": [
              "200"
            ]
          },
          "metadata": {},
          "execution_count": 5
        }
      ]
    },
    {
      "cell_type": "code",
      "source": [
        "# Number of transaction done by each customer\n",
        "df.customer_id.value_counts()"
      ],
      "metadata": {
        "colab": {
          "base_uri": "https://localhost:8080/"
        },
        "id": "E967pqg7OfKy",
        "outputId": "5fe70ca7-dbcc-4cd0-a8da-8e022ee80ea1"
      },
      "execution_count": 6,
      "outputs": [
        {
          "output_type": "execute_result",
          "data": {
            "text/plain": [
              "customer_id_113    1430\n",
              "customer_id_168    1002\n",
              "customer_id_178     694\n",
              "customer_id_196     219\n",
              "customer_id_129     218\n",
              "                   ... \n",
              "customer_id_156       4\n",
              "customer_id_119       4\n",
              "customer_id_137       4\n",
              "customer_id_24        3\n",
              "customer_id_169       3\n",
              "Name: customer_id, Length: 200, dtype: int64"
            ]
          },
          "metadata": {},
          "execution_count": 6
        }
      ]
    },
    {
      "cell_type": "code",
      "source": [
        "# Too huge disparity!!!\n",
        "# Why some customers have just 3 transactions, while some have over 1000"
      ],
      "metadata": {
        "id": "2NcR61LnOpOJ"
      },
      "execution_count": 7,
      "outputs": []
    },
    {
      "cell_type": "code",
      "source": [
        "plt.figure(figsize=(18,4))\n",
        "df.customer_id.value_counts().plot(kind='bar', color='grey');"
      ],
      "metadata": {
        "colab": {
          "base_uri": "https://localhost:8080/",
          "height": 341
        },
        "id": "qZPpd1ddWnsk",
        "outputId": "1d304d51-0fc1-44b4-b21f-33f03bbf19e0"
      },
      "execution_count": 8,
      "outputs": [
        {
          "output_type": "display_data",
          "data": {
            "text/plain": [
              "<Figure size 1296x288 with 1 Axes>"
            ],
            "image/png": "[encoded data removed]"
          },
          "metadata": {
            "needs_background": "light"
          }
        }
      ]
    },
    {
      "cell_type": "code",
      "source": [
        "plt.figure(figsize=(18,4))\n",
        "sns.boxplot(x=df.customer_id.value_counts())\n",
        "plt.xticks(np.arange(0,1500,50));"
      ],
      "metadata": {
        "colab": {
          "base_uri": "https://localhost:8080/",
          "height": 280
        },
        "id": "iGkJzbOXZWOK",
        "outputId": "037965f4-5a6f-41be-86db-f91eea95d1e4"
      },
      "execution_count": 9,
      "outputs": [
        {
          "output_type": "display_data",
          "data": {
            "text/plain": [
              "<Figure size 1296x288 with 1 Axes>"
            ],
            "image/png": "[encoded data removed]"
          },
          "metadata": {
            "needs_background": "light"
          }
        }
      ]
    },
    {
      "cell_type": "markdown",
      "source": [
        "Upon further examination, we see that only 3 customers have more than 600 events. About 75% customers have just 50 events.  \n",
        "We sample one of the customers with low events to see if there is any story there."
      ],
      "metadata": {
        "id": "RsBskuAlZkcC"
      }
    },
    {
      "cell_type": "code",
      "source": [
        "df[df.customer_id==\"customer_id_119\"]"
      ],
      "metadata": {
        "colab": {
          "base_uri": "https://localhost:8080/",
          "height": 372
        },
        "id": "HqwUz5bHO9l2",
        "outputId": "9e75d82d-6af8-4e83-ae7f-13ef5b89836f"
      },
      "execution_count": 10,
      "outputs": [
        {
          "output_type": "execute_result",
          "data": {
            "text/plain": [
              "          customer_id      event_dttm_Deli   event_type_nm  \\\n",
              "5992  customer_id_119  2022-10-18 19:26:21  SESSION_SIGNIN   \n",
              "5993  customer_id_119  2022-10-19 12:53:32         PAYMENT   \n",
              "5994  customer_id_119  2022-10-19 15:29:13         PAYMENT   \n",
              "5995  customer_id_119  2022-10-20 16:18:08         PAYMENT   \n",
              "\n",
              "     client_defined_event_type_nm event_desc  operaton_amt_100 (rupees)  \\\n",
              "5992                          NaN      Login                       0.00   \n",
              "5993                 POS_PURCHASE   Purchase                     177.00   \n",
              "5994                 POS_PURCHASE   Purchase                     200.60   \n",
              "5995                 POS_PURCHASE   Purchase                     376.42   \n",
              "\n",
              "      active phone call remote desktop protokol  emulator      f  ...  \\\n",
              "5992                0.0                   False       0.0  Surat  ...   \n",
              "5993                NaN                     NaN       NaN    NaN  ...   \n",
              "5994                NaN                     NaN       NaN    NaN  ...   \n",
              "5995                NaN                     NaN       NaN    NaN  ...   \n",
              "\n",
              "           os       device_model screensize agentconnectiontype screen_hash  \\\n",
              "5992  Android  Xiaomi M2003J15SC  1080x2110                 NaN         NaN   \n",
              "5993      NaN                NaN        NaN                 NaN         NaN   \n",
              "5994      NaN                NaN        NaN                 NaN         NaN   \n",
              "5995      NaN                NaN        NaN                 NaN         NaN   \n",
              "\n",
              "      device for user reciever password change fast change of ip  \\\n",
              "5992              old      old             NaN               NaN   \n",
              "5993              NaN      old             NaN               NaN   \n",
              "5994              NaN      old             NaN               NaN   \n",
              "5995              NaN      old             NaN               NaN   \n",
              "\n",
              "     ip not equal to previous  \n",
              "5992              IP differes  \n",
              "5993                      NaN  \n",
              "5994                      NaN  \n",
              "5995                      NaN  \n",
              "\n",
              "[4 rows x 21 columns]"
            ],
            "text/html": [
              "\n",
              "  <div id=\"df-b16c304d-d5b0-49a9-bad0-b5a0438e1787\">\n",
              "    <div class=\"colab-df-container\">\n",
              "      <div>\n",
              "<style scoped>\n",
              "    .dataframe tbody tr th:only-of-type {\n",
              "        vertical-align: middle;\n",
              "    }\n",
              "\n",
              "    .dataframe tbody tr th {\n",
              "        vertical-align: top;\n",
              "    }\n",
              "\n",
              "    .dataframe thead th {\n",
              "        text-align: right;\n",
              "    }\n",
              "</style>\n",
              "<table border=\"1\" class=\"dataframe\">\n",
              "  <thead>\n",
              "    <tr style=\"text-align: right;\">\n",
              "      <th></th>\n",
              "      <th>customer_id</th>\n",
              "      <th>event_dttm_Deli</th>\n",
              "      <th>event_type_nm</th>\n",
              "      <th>client_defined_event_type_nm</th>\n",
              "      <th>event_desc</th>\n",
              "      <th>operaton_amt_100 (rupees)</th>\n",
              "      <th>active phone call</th>\n",
              "      <th>remote desktop protokol</th>\n",
              "      <th>emulator</th>\n",
              "      <th>f</th>\n",
              "      <th>...</th>\n",
              "      <th>os</th>\n",
              "      <th>device_model</th>\n",
              "      <th>screensize</th>\n",
              "      <th>agentconnectiontype</th>\n",
              "      <th>screen_hash</th>\n",
              "      <th>device for user</th>\n",
              "      <th>reciever</th>\n",
              "      <th>password change</th>\n",
              "      <th>fast change of ip</th>\n",
              "      <th>ip not equal to previous</th>\n",
              "    </tr>\n",
              "  </thead>\n",
              "  <tbody>\n",
              "    <tr>\n",
              "      <th>5992</th>\n",
              "      <td>customer_id_119</td>\n",
              "      <td>2022-10-18 19:26:21</td>\n",
              "      <td>SESSION_SIGNIN</td>\n",
              "      <td>NaN</td>\n",
              "      <td>Login</td>\n",
              "      <td>0.00</td>\n",
              "      <td>0.0</td>\n",
              "      <td>False</td>\n",
              "      <td>0.0</td>\n",
              "      <td>Surat</td>\n",
              "      <td>...</td>\n",
              "      <td>Android</td>\n",
              "      <td>Xiaomi M2003J15SC</td>\n",
              "      <td>1080x2110</td>\n",
              "      <td>NaN</td>\n",
              "      <td>NaN</td>\n",
              "      <td>old</td>\n",
              "      <td>old</td>\n",
              "      <td>NaN</td>\n",
              "      <td>NaN</td>\n",
              "      <td>IP differes</td>\n",
              "    </tr>\n",
              "    <tr>\n",
              "      <th>5993</th>\n",
              "      <td>customer_id_119</td>\n",
              "      <td>2022-10-19 12:53:32</td>\n",
              "      <td>PAYMENT</td>\n",
              "      <td>POS_PURCHASE</td>\n",
              "      <td>Purchase</td>\n",
              "      <td>177.00</td>\n",
              "      <td>NaN</td>\n",
              "      <td>NaN</td>\n",
              "      <td>NaN</td>\n",
              "      <td>NaN</td>\n",
              "      <td>...</td>\n",
              "      <td>NaN</td>\n",
              "      <td>NaN</td>\n",
              "      <td>NaN</td>\n",
              "      <td>NaN</td>\n",
              "      <td>NaN</td>\n",
              "      <td>NaN</td>\n",
              "      <td>old</td>\n",
              "      <td>NaN</td>\n",
              "      <td>NaN</td>\n",
              "      <td>NaN</td>\n",
              "    </tr>\n",
              "    <tr>\n",
              "      <th>5994</th>\n",
              "      <td>customer_id_119</td>\n",
              "      <td>2022-10-19 15:29:13</td>\n",
              "      <td>PAYMENT</td>\n",
              "      <td>POS_PURCHASE</td>\n",
              "      <td>Purchase</td>\n",
              "      <td>200.60</td>\n",
              "      <td>NaN</td>\n",
              "      <td>NaN</td>\n",
              "      <td>NaN</td>\n",
              "      <td>NaN</td>\n",
              "      <td>...</td>\n",
              "      <td>NaN</td>\n",
              "      <td>NaN</td>\n",
              "      <td>NaN</td>\n",
              "      <td>NaN</td>\n",
              "      <td>NaN</td>\n",
              "      <td>NaN</td>\n",
              "      <td>old</td>\n",
              "      <td>NaN</td>\n",
              "      <td>NaN</td>\n",
              "      <td>NaN</td>\n",
              "    </tr>\n",
              "    <tr>\n",
              "      <th>5995</th>\n",
              "      <td>customer_id_119</td>\n",
              "      <td>2022-10-20 16:18:08</td>\n",
              "      <td>PAYMENT</td>\n",
              "      <td>POS_PURCHASE</td>\n",
              "      <td>Purchase</td>\n",
              "      <td>376.42</td>\n",
              "      <td>NaN</td>\n",
              "      <td>NaN</td>\n",
              "      <td>NaN</td>\n",
              "      <td>NaN</td>\n",
              "      <td>...</td>\n",
              "      <td>NaN</td>\n",
              "      <td>NaN</td>\n",
              "      <td>NaN</td>\n",
              "      <td>NaN</td>\n",
              "      <td>NaN</td>\n",
              "      <td>NaN</td>\n",
              "      <td>old</td>\n",
              "      <td>NaN</td>\n",
              "      <td>NaN</td>\n",
              "      <td>NaN</td>\n",
              "    </tr>\n",
              "  </tbody>\n",
              "</table>\n",
              "<p>4 rows × 21 columns</p>\n",
              "</div>\n",
              "      <button class=\"colab-df-convert\" onclick=\"convertToInteractive('df-b16c304d-d5b0-49a9-bad0-b5a0438e1787')\"\n",
              "              title=\"Convert this dataframe to an interactive table.\"\n",
              "              style=\"display:none;\">\n",
              "        \n",
              "  <svg xmlns=\"http://www.w3.org/2000/svg\" height=\"24px\"viewBox=\"0 0 24 24\"\n",
              "       width=\"24px\">\n",
              "    <path d=\"M0 0h24v24H0V0z\" fill=\"none\"/>\n",
              "    <path d=\"M18.56 5.44l.94 2.06.94-2.06 2.06-.94-2.06-.94-.94-2.06-.94 2.06-2.06.94zm-11 1L8.5 8.5l.94-2.06 2.06-.94-2.06-.94L8.5 2.5l-.94 2.06-2.06.94zm10 10l.94 2.06.94-2.06 2.06-.94-2.06-.94-.94-2.06-.94 2.06-2.06.94z\"/><path d=\"M17.41 7.96l-1.37-1.37c-.4-.4-.92-.59-1.43-.59-.52 0-1.04.2-1.43.59L10.3 9.45l-7.72 7.72c-.78.78-.78 2.05 0 2.83L4 21.41c.39.39.9.59 1.41.59.51 0 1.02-.2 1.41-.59l7.78-7.78 2.81-2.81c.8-.78.8-2.07 0-2.86zM5.41 20L4 18.59l7.72-7.72 1.47 1.35L5.41 20z\"/>\n",
              "  </svg>\n",
              "      </button>\n",
              "      \n",
              "  <style>\n",
              "    .colab-df-container {\n",
              "      display:flex;\n",
              "      flex-wrap:wrap;\n",
              "      gap: 12px;\n",
              "    }\n",
              "\n",
              "    .colab-df-convert {\n",
              "      background-color: #E8F0FE;\n",
              "      border: none;\n",
              "      border-radius: 50%;\n",
              "      cursor: pointer;\n",
              "      display: none;\n",
              "      fill: #1967D2;\n",
              "      height: 32px;\n",
              "      padding: 0 0 0 0;\n",
              "      width: 32px;\n",
              "    }\n",
              "\n",
              "    .colab-df-convert:hover {\n",
              "      background-color: #E2EBFA;\n",
              "      box-shadow: 0px 1px 2px rgba(60, 64, 67, 0.3), 0px 1px 3px 1px rgba(60, 64, 67, 0.15);\n",
              "      fill: #174EA6;\n",
              "    }\n",
              "\n",
              "    [theme=dark] .colab-df-convert {\n",
              "      background-color: #3B4455;\n",
              "      fill: #D2E3FC;\n",
              "    }\n",
              "\n",
              "    [theme=dark] .colab-df-convert:hover {\n",
              "      background-color: #434B5C;\n",
              "      box-shadow: 0px 1px 3px 1px rgba(0, 0, 0, 0.15);\n",
              "      filter: drop-shadow(0px 1px 2px rgba(0, 0, 0, 0.3));\n",
              "      fill: #FFFFFF;\n",
              "    }\n",
              "  </style>\n",
              "\n",
              "      <script>\n",
              "        const buttonEl =\n",
              "          document.querySelector('#df-b16c304d-d5b0-49a9-bad0-b5a0438e1787 button.colab-df-convert');\n",
              "        buttonEl.style.display =\n",
              "          google.colab.kernel.accessAllowed ? 'block' : 'none';\n",
              "\n",
              "        async function convertToInteractive(key) {\n",
              "          const element = document.querySelector('#df-b16c304d-d5b0-49a9-bad0-b5a0438e1787');\n",
              "          const dataTable =\n",
              "            await google.colab.kernel.invokeFunction('convertToInteractive',\n",
              "                                                     [key], {});\n",
              "          if (!dataTable) return;\n",
              "\n",
              "          const docLinkHtml = 'Like what you see? Visit the ' +\n",
              "            '<a target=\"_blank\" href=https://colab.research.google.com/notebooks/data_table.ipynb>data table notebook</a>'\n",
              "            + ' to learn more about interactive tables.';\n",
              "          element.innerHTML = '';\n",
              "          dataTable['output_type'] = 'display_data';\n",
              "          await google.colab.output.renderOutput(dataTable, element);\n",
              "          const docLink = document.createElement('div');\n",
              "          docLink.innerHTML = docLinkHtml;\n",
              "          element.appendChild(docLink);\n",
              "        }\n",
              "      </script>\n",
              "    </div>\n",
              "  </div>\n",
              "  "
            ]
          },
          "metadata": {},
          "execution_count": 10
        }
      ]
    },
    {
      "cell_type": "markdown",
      "source": [
        "### **event_dttm_Deli**"
      ],
      "metadata": {
        "id": "W5ZN9iHebe6l"
      }
    },
    {
      "cell_type": "code",
      "source": [
        "# Number of unique event_dttm_Deli\n",
        "df.event_dttm_Deli.nunique()"
      ],
      "metadata": {
        "id": "pgZ8god-PBtX",
        "colab": {
          "base_uri": "https://localhost:8080/"
        },
        "outputId": "89628f89-6c6b-4422-e686-259d401fd2a9"
      },
      "execution_count": 11,
      "outputs": [
        {
          "output_type": "execute_result",
          "data": {
            "text/plain": [
              "10837"
            ]
          },
          "metadata": {},
          "execution_count": 11
        }
      ]
    },
    {
      "cell_type": "code",
      "source": [
        "# Converting to datetime format\n",
        "df.event_dttm_Deli = pd.to_datetime(df.event_dttm_Deli)\n",
        "\n",
        "# Start Datetime\n",
        "min(df.event_dttm_Deli)"
      ],
      "metadata": {
        "colab": {
          "base_uri": "https://localhost:8080/"
        },
        "id": "RzL7q17gbniw",
        "outputId": "bf89c1b5-d481-4787-dfb1-7feaf3925767"
      },
      "execution_count": 12,
      "outputs": [
        {
          "output_type": "execute_result",
          "data": {
            "text/plain": [
              "Timestamp('2022-09-22 17:43:37')"
            ]
          },
          "metadata": {},
          "execution_count": 12
        }
      ]
    },
    {
      "cell_type": "code",
      "source": [
        "# End Datetime\n",
        "max(df.event_dttm_Deli)"
      ],
      "metadata": {
        "colab": {
          "base_uri": "https://localhost:8080/"
        },
        "id": "SRuBE7XWbx7b",
        "outputId": "259bea95-6415-4e81-a333-9643fb4b6b8b"
      },
      "execution_count": 13,
      "outputs": [
        {
          "output_type": "execute_result",
          "data": {
            "text/plain": [
              "Timestamp('2022-11-23 19:53:06')"
            ]
          },
          "metadata": {},
          "execution_count": 13
        }
      ]
    },
    {
      "cell_type": "code",
      "source": [
        "# Datetime Range\n",
        "max(df.event_dttm_Deli) - min(df.event_dttm_Deli)"
      ],
      "metadata": {
        "colab": {
          "base_uri": "https://localhost:8080/"
        },
        "id": "ivR2S-itb2XD",
        "outputId": "ae5d3d94-8f23-4934-b43c-a644de89a081"
      },
      "execution_count": 14,
      "outputs": [
        {
          "output_type": "execute_result",
          "data": {
            "text/plain": [
              "Timedelta('62 days 02:09:29')"
            ]
          },
          "metadata": {},
          "execution_count": 14
        }
      ]
    },
    {
      "cell_type": "code",
      "source": [
        "df['day_of_week'] = df['event_dttm_Deli'].dt.day_name()\n",
        "df['day_of_week'].value_counts()"
      ],
      "metadata": {
        "colab": {
          "base_uri": "https://localhost:8080/"
        },
        "id": "vamzFsXBeAky",
        "outputId": "d0b60457-a406-49fd-aca8-f014caef84ea"
      },
      "execution_count": 15,
      "outputs": [
        {
          "output_type": "execute_result",
          "data": {
            "text/plain": [
              "Saturday     1759\n",
              "Monday       1754\n",
              "Wednesday    1592\n",
              "Thursday     1570\n",
              "Tuesday      1538\n",
              "Friday       1514\n",
              "Sunday       1242\n",
              "Name: day_of_week, dtype: int64"
            ]
          },
          "metadata": {},
          "execution_count": 15
        }
      ]
    },
    {
      "cell_type": "code",
      "source": [
        "df.day_of_week.value_counts().plot(kind='barh', color='grey');"
      ],
      "metadata": {
        "colab": {
          "base_uri": "https://localhost:8080/",
          "height": 265
        },
        "id": "XmMEZGgdeWB4",
        "outputId": "0974ac7a-6223-4396-ea3f-068833f13ce9"
      },
      "execution_count": 16,
      "outputs": [
        {
          "output_type": "display_data",
          "data": {
            "text/plain": [
              "<Figure size 432x288 with 1 Axes>"
            ],
            "image/png": "[encoded data removed]"
          },
          "metadata": {
            "needs_background": "light"
          }
        }
      ]
    },
    {
      "cell_type": "markdown",
      "source": [
        "Monday and Saturday have more events than other days, Sunday being the least.  \n",
        "Since we don't have the target variable yet, we are unable to see the significance of this feature."
      ],
      "metadata": {
        "id": "qIpyCKvZfhzG"
      }
    },
    {
      "cell_type": "code",
      "source": [
        "df['hour'] = df['event_dttm_Deli'].dt.hour\n",
        "b = [0,4,8,12,16,20,24]\n",
        "l = ['Late Night', 'Early Morning','Morning','Noon','Eve','Night']\n",
        "df['session'] = pd.cut(df['hour'], bins=b, labels=l, include_lowest=True)\n",
        "df['session'].value_counts()"
      ],
      "metadata": {
        "colab": {
          "base_uri": "https://localhost:8080/"
        },
        "id": "xrrKeyOqnKjx",
        "outputId": "32f2ee46-8efc-4a85-a278-9c8ed41cfa68"
      },
      "execution_count": 17,
      "outputs": [
        {
          "output_type": "execute_result",
          "data": {
            "text/plain": [
              "Noon             3022\n",
              "Morning          2728\n",
              "Eve              2686\n",
              "Early Morning    1128\n",
              "Night             703\n",
              "Late Night        702\n",
              "Name: session, dtype: int64"
            ]
          },
          "metadata": {},
          "execution_count": 17
        }
      ]
    },
    {
      "cell_type": "markdown",
      "source": [
        "### **event_type_nm**"
      ],
      "metadata": {
        "id": "wwiJUcG6f6-O"
      }
    },
    {
      "cell_type": "code",
      "source": [
        "# Number of unique event_type_nm\n",
        "df.event_type_nm.nunique()"
      ],
      "metadata": {
        "colab": {
          "base_uri": "https://localhost:8080/"
        },
        "id": "HQWlytbhfBNL",
        "outputId": "980bc470-d6e8-4f02-831b-60f8a5c200d1"
      },
      "execution_count": 18,
      "outputs": [
        {
          "output_type": "execute_result",
          "data": {
            "text/plain": [
              "15"
            ]
          },
          "metadata": {},
          "execution_count": 18
        }
      ]
    },
    {
      "cell_type": "code",
      "source": [
        "df.event_type_nm.value_counts()"
      ],
      "metadata": {
        "colab": {
          "base_uri": "https://localhost:8080/"
        },
        "id": "-I7vOZ-VgFsZ",
        "outputId": "e116c799-7aff-4a3a-c8f3-8bdbf6062fc6"
      },
      "execution_count": 19,
      "outputs": [
        {
          "output_type": "execute_result",
          "data": {
            "text/plain": [
              "PAYMENT                  6387\n",
              "SESSION_SIGNIN           2630\n",
              "CLIENT_DEFINED            373\n",
              "WITHDRAW                  336\n",
              "DEPOSIT                   332\n",
              "CHANGE_PASSWORD           269\n",
              "CHECK                     207\n",
              "CHANGE_ALERT_SETTINGS     149\n",
              "VIEW_STATEMENT            100\n",
              "REQUEST_CREDIT             70\n",
              "CARD_PIN_CHANGE            53\n",
              "REQUEST_NEW_CARD           24\n",
              "USER_DETAILS               19\n",
              "UPDATE_USER                19\n",
              "ADD_PAYEE                   1\n",
              "Name: event_type_nm, dtype: int64"
            ]
          },
          "metadata": {},
          "execution_count": 19
        }
      ]
    },
    {
      "cell_type": "code",
      "source": [
        "df.event_type_nm.value_counts().plot(kind='barh', color='grey');"
      ],
      "metadata": {
        "colab": {
          "base_uri": "https://localhost:8080/",
          "height": 265
        },
        "id": "qD3UhlxngIwP",
        "outputId": "32619d1d-de69-4357-f859-caa903c57afa"
      },
      "execution_count": 20,
      "outputs": [
        {
          "output_type": "display_data",
          "data": {
            "text/plain": [
              "<Figure size 432x288 with 1 Axes>"
            ],
            "image/png": "[encoded data removed]"
          },
          "metadata": {
            "needs_background": "light"
          }
        }
      ]
    },
    {
      "cell_type": "markdown",
      "source": [
        "Payment and Session Signin are the most occuring events. We want to focus on these two events we want to identify fraudulent payments; suspicious session_signin becomes the precursor for the fraud."
      ],
      "metadata": {
        "id": "vqt75M_wgrtC"
      }
    },
    {
      "cell_type": "markdown",
      "source": [
        "### **client_defined_event_type_nm**"
      ],
      "metadata": {
        "id": "4nlM-JC9sy53"
      }
    },
    {
      "cell_type": "code",
      "source": [
        "# Number of unique client_defined_event_type_nm\n",
        "df.client_defined_event_type_nm.nunique()"
      ],
      "metadata": {
        "id": "7eKcEmh8gTUW",
        "colab": {
          "base_uri": "https://localhost:8080/"
        },
        "outputId": "bc0a2cf3-b5f3-4b28-a1b0-27e2dc68855d"
      },
      "execution_count": 21,
      "outputs": [
        {
          "output_type": "execute_result",
          "data": {
            "text/plain": [
              "100"
            ]
          },
          "metadata": {},
          "execution_count": 21
        }
      ]
    },
    {
      "cell_type": "code",
      "source": [
        "df.client_defined_event_type_nm.value_counts()"
      ],
      "metadata": {
        "colab": {
          "base_uri": "https://localhost:8080/"
        },
        "id": "ujIinmEfs9pZ",
        "outputId": "c79e3f0b-0c4b-4221-9802-952ea433a1a8"
      },
      "execution_count": 22,
      "outputs": [
        {
          "output_type": "execute_result",
          "data": {
            "text/plain": [
              "POS_PURCHASE                   3807\n",
              "MOB_APP_SESSION_SIGNIN         1088\n",
              "POS_P2P_DEBIT                   535\n",
              "POS_PRE_PURCHASE                305\n",
              "C2C_REQUEST                     271\n",
              "                               ... \n",
              "Construction                      1\n",
              "CASH                              1\n",
              "POS                               1\n",
              "ACCEPT_AUTOPAYMENT_M2M            1\n",
              "VIRTUAL_CREDIT_CARD_MOB_APP       1\n",
              "Name: client_defined_event_type_nm, Length: 100, dtype: int64"
            ]
          },
          "metadata": {},
          "execution_count": 22
        }
      ]
    },
    {
      "cell_type": "code",
      "source": [
        "df.client_defined_event_type_nm.value_counts().nlargest(15).plot(kind='barh', color='grey');"
      ],
      "metadata": {
        "colab": {
          "base_uri": "https://localhost:8080/",
          "height": 265
        },
        "id": "bcBnAdGJtDot",
        "outputId": "0ffc3d61-2b47-453e-ba42-db45ddf80c1d"
      },
      "execution_count": 23,
      "outputs": [
        {
          "output_type": "display_data",
          "data": {
            "text/plain": [
              "<Figure size 432x288 with 1 Axes>"
            ],
            "image/png": "[encoded data removed]"
          },
          "metadata": {
            "needs_background": "light"
          }
        }
      ]
    },
    {
      "cell_type": "markdown",
      "source": [
        "\"Point of Sale PURCHASE\" has the highest transactions (3807).  \n",
        "Can fraud happen at Point of Sale?  \n",
        "Someone could steal and use your card at the POS. And several cards do not require pin for transactions, making it easier for fraud."
      ],
      "metadata": {
        "id": "c6KcC2zKteOw"
      }
    },
    {
      "cell_type": "markdown",
      "source": [
        "### event_desc"
      ],
      "metadata": {
        "id": "JTLlMFjuuwMG"
      }
    },
    {
      "cell_type": "code",
      "source": [
        "# Number of unique event_desc\n",
        "df.event_desc.nunique()"
      ],
      "metadata": {
        "colab": {
          "base_uri": "https://localhost:8080/"
        },
        "id": "qf4zr2rmtJOg",
        "outputId": "6f4aeb98-7b79-40eb-d87f-66325ef2c48f"
      },
      "execution_count": 24,
      "outputs": [
        {
          "output_type": "execute_result",
          "data": {
            "text/plain": [
              "76"
            ]
          },
          "metadata": {},
          "execution_count": 24
        }
      ]
    },
    {
      "cell_type": "code",
      "source": [
        "df.event_desc.value_counts()"
      ],
      "metadata": {
        "colab": {
          "base_uri": "https://localhost:8080/"
        },
        "id": "zsYXKd09u1pS",
        "outputId": "f87eb7d1-dc6a-4715-aff4-23996787e65b"
      },
      "execution_count": 25,
      "outputs": [
        {
          "output_type": "execute_result",
          "data": {
            "text/plain": [
              "Purchase                                                             3807\n",
              "Login                                                                2630\n",
              "Debit part of P2P transfer via POS                                    535\n",
              "Initial C2C request outgoing (C01 Message 477)                        419\n",
              "Secondary request C2C outgoing (C02 Message 291)                      364\n",
              "                                                                     ... \n",
              "Replenishment of a brokerage account                                    1\n",
              "Creating a new template. Transfers within the bank to individuals       1\n",
              "Secondary request C2C outgoing Me2Me                                    1\n",
              "Primary request C2C outgoing Me2Me                                      1\n",
              "Cash withdrawal from Profile plastic card - rupees                      1\n",
              "Name: event_desc, Length: 76, dtype: int64"
            ]
          },
          "metadata": {},
          "execution_count": 25
        }
      ]
    },
    {
      "cell_type": "code",
      "source": [
        "df.event_desc.value_counts().nlargest(15).plot(kind='barh', color='grey');"
      ],
      "metadata": {
        "colab": {
          "base_uri": "https://localhost:8080/",
          "height": 265
        },
        "id": "9IV4ulrJu4w9",
        "outputId": "d806e836-558f-444d-824d-0818d3f5eb08"
      },
      "execution_count": 26,
      "outputs": [
        {
          "output_type": "display_data",
          "data": {
            "text/plain": [
              "<Figure size 432x288 with 1 Axes>"
            ],
            "image/png": "[encoded data removed]"
          },
          "metadata": {
            "needs_background": "light"
          }
        }
      ]
    },
    {
      "cell_type": "markdown",
      "source": [
        "Naturally, fraud happens to make monetary transaction, a.k.a purchases. Rarely does one commit fraud to get personal details. We want to see what purchases can be considered as fraud. Purchase by itself isn't a fraud. But if someone consistently spends frugally, and then suddenly spends a whopping amount, it may be flagged suspicious.  \n",
        "We do not have what the person was purchasing. That would have added another dimension to the analysis, but for now, the purchase amount is the clue."
      ],
      "metadata": {
        "id": "vL1ofygRvAUG"
      }
    },
    {
      "cell_type": "markdown",
      "source": [
        "### operaton_amt_100 (rupees)"
      ],
      "metadata": {
        "id": "cPSbYbA6v3-U"
      }
    },
    {
      "cell_type": "code",
      "source": [
        "# Continuous variable - boxplot, histplot\n",
        "\n",
        "plt.figure(figsize=(18,4))\n",
        "sns.boxplot(x=df['operaton_amt_100 (rupees)']);\n",
        "# plt.xticks(np.arange(0,1500,50));"
      ],
      "metadata": {
        "colab": {
          "base_uri": "https://localhost:8080/",
          "height": 280
        },
        "id": "y9hJjlflu7Hc",
        "outputId": "1b1476e5-0310-456e-baac-37587ade1834"
      },
      "execution_count": 27,
      "outputs": [
        {
          "output_type": "display_data",
          "data": {
            "text/plain": [
              "<Figure size 1296x288 with 1 Axes>"
            ],
            "image/png": "[encoded data removed]"
          },
          "metadata": {
            "needs_background": "light"
          }
        }
      ]
    },
    {
      "cell_type": "code",
      "source": [
        "plt.figure(figsize=(18,4))\n",
        "plt.hist(df['operaton_amt_100 (rupees)'], color='grey');"
      ],
      "metadata": {
        "colab": {
          "base_uri": "https://localhost:8080/",
          "height": 278
        },
        "id": "xanjResQwTu7",
        "outputId": "25a05940-efce-4a41-b4ec-05a9866b0126"
      },
      "execution_count": 28,
      "outputs": [
        {
          "output_type": "display_data",
          "data": {
            "text/plain": [
              "<Figure size 1296x288 with 1 Axes>"
            ],
            "image/png": "[encoded data removed]"
          },
          "metadata": {
            "needs_background": "light"
          }
        }
      ]
    },
    {
      "cell_type": "markdown",
      "source": [
        "### active phone call"
      ],
      "metadata": {
        "id": "b21L6ZrqyK0N"
      }
    },
    {
      "cell_type": "code",
      "source": [
        "# Number of unique values\n",
        "df['active phone call'].unique()"
      ],
      "metadata": {
        "colab": {
          "base_uri": "https://localhost:8080/"
        },
        "id": "FWr1haHCwy6l",
        "outputId": "69ef4911-b621-4350-c18b-a46b0a19348d"
      },
      "execution_count": 29,
      "outputs": [
        {
          "output_type": "execute_result",
          "data": {
            "text/plain": [
              "array([nan,  1.,  0.])"
            ]
          },
          "metadata": {},
          "execution_count": 29
        }
      ]
    },
    {
      "cell_type": "code",
      "source": [
        "# Value counts of each category\n",
        "df['active phone call'].value_counts(dropna=False)"
      ],
      "metadata": {
        "colab": {
          "base_uri": "https://localhost:8080/"
        },
        "id": "TbQV7JtjyUdx",
        "outputId": "cee9da75-a2e0-4552-d075-758da14e2345"
      },
      "execution_count": 30,
      "outputs": [
        {
          "output_type": "execute_result",
          "data": {
            "text/plain": [
              "NaN    7191\n",
              "0.0    3552\n",
              "1.0     226\n",
              "Name: active phone call, dtype: int64"
            ]
          },
          "metadata": {},
          "execution_count": 30
        }
      ]
    },
    {
      "cell_type": "code",
      "source": [
        "df['active phone call str'] = df['active phone call'].astype('str')"
      ],
      "metadata": {
        "id": "P_-lOukolCk0"
      },
      "execution_count": 31,
      "outputs": []
    },
    {
      "cell_type": "code",
      "source": [
        "df.groupby(['event_type_nm','active phone call str']).size().unstack()"
      ],
      "metadata": {
        "id": "d2ZV2QPoygQJ",
        "colab": {
          "base_uri": "https://localhost:8080/",
          "height": 551
        },
        "outputId": "fa1d3903-b643-4989-e3ef-350991100f7c"
      },
      "execution_count": 32,
      "outputs": [
        {
          "output_type": "execute_result",
          "data": {
            "text/plain": [
              "active phone call str     0.0    1.0     nan\n",
              "event_type_nm                               \n",
              "ADD_PAYEE                 1.0    NaN     NaN\n",
              "CARD_PIN_CHANGE          38.0    NaN    15.0\n",
              "CHANGE_ALERT_SETTINGS     7.0    2.0   140.0\n",
              "CHANGE_PASSWORD         164.0    5.0   100.0\n",
              "CHECK                     NaN    NaN   207.0\n",
              "CLIENT_DEFINED          228.0   11.0   134.0\n",
              "DEPOSIT                  41.0    1.0   290.0\n",
              "PAYMENT                1062.0   33.0  5292.0\n",
              "REQUEST_CREDIT           29.0   17.0    24.0\n",
              "REQUEST_NEW_CARD         14.0    5.0     5.0\n",
              "SESSION_SIGNIN         1938.0  146.0   546.0\n",
              "UPDATE_USER              16.0    3.0     NaN\n",
              "USER_DETAILS             14.0    3.0     2.0\n",
              "VIEW_STATEMENT            NaN    NaN   100.0\n",
              "WITHDRAW                  NaN    NaN   336.0"
            ],
            "text/html": [
              "\n",
              "  <div id=\"df-74081c8c-d449-4f6e-a126-bb0702ba4c6d\">\n",
              "    <div class=\"colab-df-container\">\n",
              "      <div>\n",
              "<style scoped>\n",
              "    .dataframe tbody tr th:only-of-type {\n",
              "        vertical-align: middle;\n",
              "    }\n",
              "\n",
              "    .dataframe tbody tr th {\n",
              "        vertical-align: top;\n",
              "    }\n",
              "\n",
              "    .dataframe thead th {\n",
              "        text-align: right;\n",
              "    }\n",
              "</style>\n",
              "<table border=\"1\" class=\"dataframe\">\n",
              "  <thead>\n",
              "    <tr style=\"text-align: right;\">\n",
              "      <th>active phone call str</th>\n",
              "      <th>0.0</th>\n",
              "      <th>1.0</th>\n",
              "      <th>nan</th>\n",
              "    </tr>\n",
              "    <tr>\n",
              "      <th>event_type_nm</th>\n",
              "      <th></th>\n",
              "      <th></th>\n",
              "      <th></th>\n",
              "    </tr>\n",
              "  </thead>\n",
              "  <tbody>\n",
              "    <tr>\n",
              "      <th>ADD_PAYEE</th>\n",
              "      <td>1.0</td>\n",
              "      <td>NaN</td>\n",
              "      <td>NaN</td>\n",
              "    </tr>\n",
              "    <tr>\n",
              "      <th>CARD_PIN_CHANGE</th>\n",
              "      <td>38.0</td>\n",
              "      <td>NaN</td>\n",
              "      <td>15.0</td>\n",
              "    </tr>\n",
              "    <tr>\n",
              "      <th>CHANGE_ALERT_SETTINGS</th>\n",
              "      <td>7.0</td>\n",
              "      <td>2.0</td>\n",
              "      <td>140.0</td>\n",
              "    </tr>\n",
              "    <tr>\n",
              "      <th>CHANGE_PASSWORD</th>\n",
              "      <td>164.0</td>\n",
              "      <td>5.0</td>\n",
              "      <td>100.0</td>\n",
              "    </tr>\n",
              "    <tr>\n",
              "      <th>CHECK</th>\n",
              "      <td>NaN</td>\n",
              "      <td>NaN</td>\n",
              "      <td>207.0</td>\n",
              "    </tr>\n",
              "    <tr>\n",
              "      <th>CLIENT_DEFINED</th>\n",
              "      <td>228.0</td>\n",
              "      <td>11.0</td>\n",
              "      <td>134.0</td>\n",
              "    </tr>\n",
              "    <tr>\n",
              "      <th>DEPOSIT</th>\n",
              "      <td>41.0</td>\n",
              "      <td>1.0</td>\n",
              "      <td>290.0</td>\n",
              "    </tr>\n",
              "    <tr>\n",
              "      <th>PAYMENT</th>\n",
              "      <td>1062.0</td>\n",
              "      <td>33.0</td>\n",
              "      <td>5292.0</td>\n",
              "    </tr>\n",
              "    <tr>\n",
              "      <th>REQUEST_CREDIT</th>\n",
              "      <td>29.0</td>\n",
              "      <td>17.0</td>\n",
              "      <td>24.0</td>\n",
              "    </tr>\n",
              "    <tr>\n",
              "      <th>REQUEST_NEW_CARD</th>\n",
              "      <td>14.0</td>\n",
              "      <td>5.0</td>\n",
              "      <td>5.0</td>\n",
              "    </tr>\n",
              "    <tr>\n",
              "      <th>SESSION_SIGNIN</th>\n",
              "      <td>1938.0</td>\n",
              "      <td>146.0</td>\n",
              "      <td>546.0</td>\n",
              "    </tr>\n",
              "    <tr>\n",
              "      <th>UPDATE_USER</th>\n",
              "      <td>16.0</td>\n",
              "      <td>3.0</td>\n",
              "      <td>NaN</td>\n",
              "    </tr>\n",
              "    <tr>\n",
              "      <th>USER_DETAILS</th>\n",
              "      <td>14.0</td>\n",
              "      <td>3.0</td>\n",
              "      <td>2.0</td>\n",
              "    </tr>\n",
              "    <tr>\n",
              "      <th>VIEW_STATEMENT</th>\n",
              "      <td>NaN</td>\n",
              "      <td>NaN</td>\n",
              "      <td>100.0</td>\n",
              "    </tr>\n",
              "    <tr>\n",
              "      <th>WITHDRAW</th>\n",
              "      <td>NaN</td>\n",
              "      <td>NaN</td>\n",
              "      <td>336.0</td>\n",
              "    </tr>\n",
              "  </tbody>\n",
              "</table>\n",
              "</div>\n",
              "      <button class=\"colab-df-convert\" onclick=\"convertToInteractive('df-74081c8c-d449-4f6e-a126-bb0702ba4c6d')\"\n",
              "              title=\"Convert this dataframe to an interactive table.\"\n",
              "              style=\"display:none;\">\n",
              "        \n",
              "  <svg xmlns=\"http://www.w3.org/2000/svg\" height=\"24px\"viewBox=\"0 0 24 24\"\n",
              "       width=\"24px\">\n",
              "    <path d=\"M0 0h24v24H0V0z\" fill=\"none\"/>\n",
              "    <path d=\"M18.56 5.44l.94 2.06.94-2.06 2.06-.94-2.06-.94-.94-2.06-.94 2.06-2.06.94zm-11 1L8.5 8.5l.94-2.06 2.06-.94-2.06-.94L8.5 2.5l-.94 2.06-2.06.94zm10 10l.94 2.06.94-2.06 2.06-.94-2.06-.94-.94-2.06-.94 2.06-2.06.94z\"/><path d=\"M17.41 7.96l-1.37-1.37c-.4-.4-.92-.59-1.43-.59-.52 0-1.04.2-1.43.59L10.3 9.45l-7.72 7.72c-.78.78-.78 2.05 0 2.83L4 21.41c.39.39.9.59 1.41.59.51 0 1.02-.2 1.41-.59l7.78-7.78 2.81-2.81c.8-.78.8-2.07 0-2.86zM5.41 20L4 18.59l7.72-7.72 1.47 1.35L5.41 20z\"/>\n",
              "  </svg>\n",
              "      </button>\n",
              "      \n",
              "  <style>\n",
              "    .colab-df-container {\n",
              "      display:flex;\n",
              "      flex-wrap:wrap;\n",
              "      gap: 12px;\n",
              "    }\n",
              "\n",
              "    .colab-df-convert {\n",
              "      background-color: #E8F0FE;\n",
              "      border: none;\n",
              "      border-radius: 50%;\n",
              "      cursor: pointer;\n",
              "      display: none;\n",
              "      fill: #1967D2;\n",
              "      height: 32px;\n",
              "      padding: 0 0 0 0;\n",
              "      width: 32px;\n",
              "    }\n",
              "\n",
              "    .colab-df-convert:hover {\n",
              "      background-color: #E2EBFA;\n",
              "      box-shadow: 0px 1px 2px rgba(60, 64, 67, 0.3), 0px 1px 3px 1px rgba(60, 64, 67, 0.15);\n",
              "      fill: #174EA6;\n",
              "    }\n",
              "\n",
              "    [theme=dark] .colab-df-convert {\n",
              "      background-color: #3B4455;\n",
              "      fill: #D2E3FC;\n",
              "    }\n",
              "\n",
              "    [theme=dark] .colab-df-convert:hover {\n",
              "      background-color: #434B5C;\n",
              "      box-shadow: 0px 1px 3px 1px rgba(0, 0, 0, 0.15);\n",
              "      filter: drop-shadow(0px 1px 2px rgba(0, 0, 0, 0.3));\n",
              "      fill: #FFFFFF;\n",
              "    }\n",
              "  </style>\n",
              "\n",
              "      <script>\n",
              "        const buttonEl =\n",
              "          document.querySelector('#df-74081c8c-d449-4f6e-a126-bb0702ba4c6d button.colab-df-convert');\n",
              "        buttonEl.style.display =\n",
              "          google.colab.kernel.accessAllowed ? 'block' : 'none';\n",
              "\n",
              "        async function convertToInteractive(key) {\n",
              "          const element = document.querySelector('#df-74081c8c-d449-4f6e-a126-bb0702ba4c6d');\n",
              "          const dataTable =\n",
              "            await google.colab.kernel.invokeFunction('convertToInteractive',\n",
              "                                                     [key], {});\n",
              "          if (!dataTable) return;\n",
              "\n",
              "          const docLinkHtml = 'Like what you see? Visit the ' +\n",
              "            '<a target=\"_blank\" href=https://colab.research.google.com/notebooks/data_table.ipynb>data table notebook</a>'\n",
              "            + ' to learn more about interactive tables.';\n",
              "          element.innerHTML = '';\n",
              "          dataTable['output_type'] = 'display_data';\n",
              "          await google.colab.output.renderOutput(dataTable, element);\n",
              "          const docLink = document.createElement('div');\n",
              "          docLink.innerHTML = docLinkHtml;\n",
              "          element.appendChild(docLink);\n",
              "        }\n",
              "      </script>\n",
              "    </div>\n",
              "  </div>\n",
              "  "
            ]
          },
          "metadata": {},
          "execution_count": 32
        }
      ]
    },
    {
      "cell_type": "code",
      "source": [
        "sns.heatmap(df.groupby(['event_type_nm','active phone call str']).size().unstack());"
      ],
      "metadata": {
        "colab": {
          "base_uri": "https://localhost:8080/",
          "height": 279
        },
        "id": "pgLiYh3xkV2g",
        "outputId": "0638d85e-bc4f-422e-c151-79d06e5ed539"
      },
      "execution_count": 33,
      "outputs": [
        {
          "output_type": "display_data",
          "data": {
            "text/plain": [
              "<Figure size 432x288 with 2 Axes>"
            ],
            "image/png": "[encoded data removed]"
          },
          "metadata": {
            "needs_background": "light"
          }
        }
      ]
    },
    {
      "cell_type": "markdown",
      "source": [
        "Active Phone calls are mostly happening in two instances - Session signin and Payment. It is common that tele scammers call unsuspecting targets and trick them to give access to their computer. "
      ],
      "metadata": {
        "id": "ex_pgB3fxjc2"
      }
    },
    {
      "cell_type": "markdown",
      "source": [
        "### **Remote Desktop Protocol**"
      ],
      "metadata": {
        "id": "rBCXTxAJwEja"
      }
    },
    {
      "cell_type": "code",
      "source": [
        "# Unique values in this feature\n",
        "df['remote desktop protokol'].unique()"
      ],
      "metadata": {
        "colab": {
          "base_uri": "https://localhost:8080/"
        },
        "id": "sCQf99OBlr8I",
        "outputId": "dc22a17c-4632-4a2a-b73f-8bba0f9b03f5"
      },
      "execution_count": 34,
      "outputs": [
        {
          "output_type": "execute_result",
          "data": {
            "text/plain": [
              "array([nan, False, True], dtype=object)"
            ]
          },
          "metadata": {},
          "execution_count": 34
        }
      ]
    },
    {
      "cell_type": "code",
      "source": [
        "df['remote desktop protokol'].value_counts(dropna=False)"
      ],
      "metadata": {
        "colab": {
          "base_uri": "https://localhost:8080/"
        },
        "id": "qdKa0Ke-xBC9",
        "outputId": "f30a4935-d206-4bbc-8700-9412c884c087"
      },
      "execution_count": 35,
      "outputs": [
        {
          "output_type": "execute_result",
          "data": {
            "text/plain": [
              "NaN      7183\n",
              "False    3768\n",
              "True       18\n",
              "Name: remote desktop protokol, dtype: int64"
            ]
          },
          "metadata": {},
          "execution_count": 35
        }
      ]
    },
    {
      "cell_type": "code",
      "source": [
        "df['remote desktop protokol str'] = df['remote desktop protokol'].astype('str')\n",
        "sns.heatmap(df.groupby(['event_type_nm','remote desktop protokol str']).size().unstack());"
      ],
      "metadata": {
        "colab": {
          "base_uri": "https://localhost:8080/",
          "height": 279
        },
        "id": "cP-Yr8VTxFGF",
        "outputId": "f0d1dd7c-c3cd-432e-995d-a7e2f9ffbf65"
      },
      "execution_count": 36,
      "outputs": [
        {
          "output_type": "display_data",
          "data": {
            "text/plain": [
              "<Figure size 432x288 with 2 Axes>"
            ],
            "image/png": "[encoded data removed]"
          },
          "metadata": {
            "needs_background": "light"
          }
        }
      ]
    },
    {
      "cell_type": "markdown",
      "source": [
        "Similar story here as that of active phone call. One may say if we have active phone call, and remote desktop activated, it is 90% someone being scammed to give credit info."
      ],
      "metadata": {
        "id": "ry22B6k3yQKn"
      }
    },
    {
      "cell_type": "markdown",
      "source": [
        "### **emulator**"
      ],
      "metadata": {
        "id": "XxwXOHrmy6RW"
      }
    },
    {
      "cell_type": "code",
      "source": [
        "# Unique values in this feature\n",
        "df['emulator'].unique()"
      ],
      "metadata": {
        "colab": {
          "base_uri": "https://localhost:8080/"
        },
        "id": "KEtgGtQ_yD_c",
        "outputId": "a3283d58-1e68-4929-cdb1-3aff0933e60a"
      },
      "execution_count": 37,
      "outputs": [
        {
          "output_type": "execute_result",
          "data": {
            "text/plain": [
              "array([ nan,   0., 322.])"
            ]
          },
          "metadata": {},
          "execution_count": 37
        }
      ]
    },
    {
      "cell_type": "markdown",
      "source": [
        "What is an emulator?  \n",
        "An emulator is a hardware device or software program that enables one computer system (also known as a host) to imitate the functions of another computer system (known as the guest). It enables the host system to run software, tools, peripheral devices and other components which are designed for the guest system. Emulators can be of different types, replicating things such as hardware, software, OS or CPU. However, in most cases hardware architecture is emulated to provide an environment similar to a guest system.\n",
        "\n",
        "Source: https://www.techopedia.com/definition/4788/emulator"
      ],
      "metadata": {
        "id": "cshQMFGNzVt3"
      }
    },
    {
      "cell_type": "markdown",
      "source": [
        "Scammer often use emulator to mask targets' computer screens and apply scare tactics such as deleting all folders and files of their PC. Emulator is mostly used in conjunction with remote desktop control. Let's check the same."
      ],
      "metadata": {
        "id": "xuqRaEEIzvpm"
      }
    },
    {
      "cell_type": "code",
      "source": [
        "df['emulator str'] = df['emulator'].astype('str')\n",
        "\n",
        "sns.heatmap(df.groupby(['emulator str','remote desktop protokol str']).size().unstack(),annot=True);"
      ],
      "metadata": {
        "colab": {
          "base_uri": "https://localhost:8080/",
          "height": 279
        },
        "id": "MxNAd0VZy_25",
        "outputId": "3ddca45f-88a7-4f8e-cbf5-e40f3bbcb23c"
      },
      "execution_count": 38,
      "outputs": [
        {
          "output_type": "display_data",
          "data": {
            "text/plain": [
              "<Figure size 432x288 with 2 Axes>"
            ],
            "image/png": "[encoded data removed]"
          },
          "metadata": {
            "needs_background": "light"
          }
        }
      ]
    },
    {
      "cell_type": "markdown",
      "source": [
        "We were wrong. Looks like emulator has not much to do with RDP, at least for this data sample."
      ],
      "metadata": {
        "id": "HqeYM3za0sKe"
      }
    },
    {
      "cell_type": "markdown",
      "source": [
        "### **f**"
      ],
      "metadata": {
        "id": "LkkQ074F018N"
      }
    },
    {
      "cell_type": "code",
      "source": [
        "# Nuumber of unique values in this feature\n",
        "df['f'].nunique()"
      ],
      "metadata": {
        "colab": {
          "base_uri": "https://localhost:8080/"
        },
        "id": "mudR5Zj-0SGS",
        "outputId": "300b0a4d-e274-44e6-b9dc-a9f9142b13a3"
      },
      "execution_count": 39,
      "outputs": [
        {
          "output_type": "execute_result",
          "data": {
            "text/plain": [
              "82"
            ]
          },
          "metadata": {},
          "execution_count": 39
        }
      ]
    },
    {
      "cell_type": "code",
      "source": [
        "df.f.value_counts().nlargest(15).plot(kind='barh', color='grey');"
      ],
      "metadata": {
        "colab": {
          "base_uri": "https://localhost:8080/",
          "height": 265
        },
        "id": "mabdU5WG0861",
        "outputId": "6ee3db01-da04-4b99-9d64-2a2c0df66712"
      },
      "execution_count": 40,
      "outputs": [
        {
          "output_type": "display_data",
          "data": {
            "text/plain": [
              "<Figure size 432x288 with 1 Axes>"
            ],
            "image/png": "[encoded data removed]"
          },
          "metadata": {
            "needs_background": "light"
          }
        }
      ]
    },
    {
      "cell_type": "markdown",
      "source": [
        "82 is too big a list/category. We need to somehow reduce the category for machine to make meaning of it.  \n",
        "One way would be to segment it by country instead of city.  \n",
        "The cities above mostly seem to be from India or Russia.  \n",
        "This seems to be the city where the transaction/event took place.  \n",
        "Is it strange that most transactions are from one city?  \n",
        "As in don't people from all cities engage in banking transactions?  \n",
        " "
      ],
      "metadata": {
        "id": "2ekErPK9r6Dn"
      }
    },
    {
      "cell_type": "code",
      "source": [
        "country_dict = {'St Petersburg':'Russia','Moscow':'Russia','Novosibirsk':'Russia','Oslo':'Russia','Vladikavkaz':'Russia','Tula':'Russia',\n",
        "                'Puna':'India','Khaidarabad':'India','Surat':'India','Kalkutta':'India','Lakhnau':'India','New Deli':'India','Kanpur':'India','Deli':'India','Mumbai':'India',\n",
        "                'Nagpur':'India','Chennai':'India','Bangalor':'India','Akhmadabad':'India','Mirzapur':'India','Jaipur':'India', 'Thana':'India','Gaziabad':'India',\n",
        "                'Bhopal':'India','Indaur':'India','Vadodara':'India','Agra':'India','Dhanbad':'India','Srinagar':'India','Djabalpur':'India','Aligahr':'India',\n",
        "                'Khaora':'India','Gvalior':'India','Tashkent':'Uzbekistan','Tbilisi':'Georgia',\"K'alak'i T'bilisi\":'Georgia',\n",
        "                'Amsterdam':'Netherlands','Paris':'France','Soran':'Iraq','Frankfurt am Main':'Germany','Antalya':'Turkey','Tallinn':'Estonia','Stockholm':'Sweden',\n",
        "                'Belgrad':'Serbia','Dubai':'UAE','Sharjah':'UAE','Ras al-Khaimah':'UAE','Naaldwijk':'Netherlands','Maykop':'Russia','Vladivostok':'Russia',\n",
        "                'London':'UK','Surgut':'Russia','New York':'USA','Vienna':'Austria','Petrozavodsk':'Russia','Prague':'Czech Republic','Kirishi':'Russia','Warsaw':'Poland',\n",
        "                'Budapest':'Hungary','Navi Mumbai':'India','Grozny':'Russia','Minsk':'Belarus',\"Kamensk-Ural'skiy\":'Russia','Gunzenhausen':'Germany','TDeli':'India',\n",
        "                'Aleksandrov':'Russia','Manassas':'USA','Chicago':'USA','Hillsboro':'USA','Newark':'USA','Las Vegas':'USA','Bucharest':'Romania','Kirov':'Russia',\n",
        "                'New Deli Oblast':'India','Yaroslavl':'Russia','Shadrinsk':'Russia','Kostroma':'Russia','Ryazan':'Russia','Tikhoretsk':'Russia','Volgograd':'Russia',\n",
        "                'Cedar Knolls':'USA','Kyiv':'Ukraine'}"
      ],
      "metadata": {
        "id": "Xq1n5fgr1E7_"
      },
      "execution_count": 41,
      "outputs": []
    },
    {
      "cell_type": "code",
      "source": [
        "df['country'] = df['f'].map(country_dict)  \n",
        "df['country'].value_counts()"
      ],
      "metadata": {
        "colab": {
          "base_uri": "https://localhost:8080/"
        },
        "id": "SzOX9YRuylFL",
        "outputId": "6fcb3c5e-1897-49ef-92b6-5f374298927a"
      },
      "execution_count": 42,
      "outputs": [
        {
          "output_type": "execute_result",
          "data": {
            "text/plain": [
              "India             2217\n",
              "Russia            2203\n",
              "Ukraine            116\n",
              "USA                 26\n",
              "UK                  21\n",
              "Georgia             11\n",
              "Sweden              10\n",
              "Serbia              10\n",
              "France               9\n",
              "UAE                  9\n",
              "Poland               8\n",
              "Germany              6\n",
              "Netherlands          4\n",
              "Iraq                 4\n",
              "Belarus              3\n",
              "Czech Republic       2\n",
              "Romania              2\n",
              "Turkey               1\n",
              "Estonia              1\n",
              "Uzbekistan           1\n",
              "Austria              1\n",
              "Hungary              1\n",
              "Name: country, dtype: int64"
            ]
          },
          "metadata": {},
          "execution_count": 42
        }
      ]
    },
    {
      "cell_type": "code",
      "source": [
        "df['country'].nunique()"
      ],
      "metadata": {
        "colab": {
          "base_uri": "https://localhost:8080/"
        },
        "id": "5QR__4LRyvhh",
        "outputId": "3b67f736-d3d4-4ab4-af72-7212dd10d161"
      },
      "execution_count": 43,
      "outputs": [
        {
          "output_type": "execute_result",
          "data": {
            "text/plain": [
              "22"
            ]
          },
          "metadata": {},
          "execution_count": 43
        }
      ]
    },
    {
      "cell_type": "markdown",
      "source": [
        "Reduction to 22 categories from 82, not bad, but is there any business or statistical sense to this?  \n",
        "As in does country have any impact on fraud likeliness?  \n",
        "May need to further group the countries to India, Russia, Ukraine and others.  "
      ],
      "metadata": {
        "id": "7xMbcnaszAbW"
      }
    },
    {
      "cell_type": "code",
      "source": [
        "df['country'] = np.where((df['country'].isin(['India','Russia'])|df.country.isnull()),df['country'],'Other')\n",
        "df['country'].value_counts()"
      ],
      "metadata": {
        "colab": {
          "base_uri": "https://localhost:8080/"
        },
        "id": "ss9s38CkbHHF",
        "outputId": "4d33a12a-7002-442c-a002-4e61e83e34f6"
      },
      "execution_count": 44,
      "outputs": [
        {
          "output_type": "execute_result",
          "data": {
            "text/plain": [
              "India     2217\n",
              "Russia    2203\n",
              "Other      246\n",
              "Name: country, dtype: int64"
            ]
          },
          "metadata": {},
          "execution_count": 44
        }
      ]
    },
    {
      "cell_type": "code",
      "source": [
        "df.shape"
      ],
      "metadata": {
        "colab": {
          "base_uri": "https://localhost:8080/"
        },
        "id": "EJxHjTCVLnpB",
        "outputId": "4410494a-01a0-4850-847c-4fcb0c3ae312"
      },
      "execution_count": 45,
      "outputs": [
        {
          "output_type": "execute_result",
          "data": {
            "text/plain": [
              "(10969, 28)"
            ]
          },
          "metadata": {},
          "execution_count": 45
        }
      ]
    },
    {
      "cell_type": "markdown",
      "source": [
        "### **Device ID**"
      ],
      "metadata": {
        "id": "FuK0MTllzoDW"
      }
    },
    {
      "cell_type": "code",
      "source": [
        "# Number of unique device_id(s)\n",
        "df.device_id.nunique()"
      ],
      "metadata": {
        "colab": {
          "base_uri": "https://localhost:8080/"
        },
        "id": "j64GDe5uyzWm",
        "outputId": "04b6b449-7dde-4cfa-bdf7-77048cbc94fd"
      },
      "execution_count": 46,
      "outputs": [
        {
          "output_type": "execute_result",
          "data": {
            "text/plain": [
              "211"
            ]
          },
          "metadata": {},
          "execution_count": 46
        }
      ]
    },
    {
      "cell_type": "code",
      "source": [
        "df.device_id.value_counts().nlargest(15).plot(kind='barh', color='grey');"
      ],
      "metadata": {
        "colab": {
          "base_uri": "https://localhost:8080/",
          "height": 265
        },
        "id": "1mGUzaZCz93z",
        "outputId": "9f4a1428-92ef-44db-e838-6d98dfbb73ba"
      },
      "execution_count": 47,
      "outputs": [
        {
          "output_type": "display_data",
          "data": {
            "text/plain": [
              "<Figure size 432x288 with 1 Axes>"
            ],
            "image/png": "[encoded data removed]"
          },
          "metadata": {
            "needs_background": "light"
          }
        }
      ]
    },
    {
      "cell_type": "code",
      "source": [
        "df.device_id.value_counts().plot(kind='box',vert=False);"
      ],
      "metadata": {
        "colab": {
          "base_uri": "https://localhost:8080/",
          "height": 265
        },
        "id": "rC1piiuG0FoD",
        "outputId": "e5ec3401-c91e-4c81-a62d-a5fa5c731e52"
      },
      "execution_count": 48,
      "outputs": [
        {
          "output_type": "display_data",
          "data": {
            "text/plain": [
              "<Figure size 432x288 with 1 Axes>"
            ],
            "image/png": "[encoded data removed]"
          },
          "metadata": {
            "needs_background": "light"
          }
        }
      ]
    },
    {
      "cell_type": "code",
      "source": [
        "df.device_id.value_counts().describe()"
      ],
      "metadata": {
        "colab": {
          "base_uri": "https://localhost:8080/"
        },
        "id": "mgJaGHcw0M35",
        "outputId": "7af1f4e0-ace2-426b-c624-461d5f66bafc"
      },
      "execution_count": 49,
      "outputs": [
        {
          "output_type": "execute_result",
          "data": {
            "text/plain": [
              "count    211.000000\n",
              "mean      17.943128\n",
              "std       20.745317\n",
              "min        1.000000\n",
              "25%        5.000000\n",
              "50%       14.000000\n",
              "75%       25.000000\n",
              "max      198.000000\n",
              "Name: device_id, dtype: float64"
            ]
          },
          "metadata": {},
          "execution_count": 49
        }
      ]
    },
    {
      "cell_type": "markdown",
      "source": [
        "75% of all the device ids were used less than 25 times.  \n",
        "But could device_id have any bearing on probability of fraud? Highly unlikely.  \n",
        "Also considering that we have 211 unique device ids (read categories), the dimensionality becomes very high.  \n",
        "One hot encoding on this would make 200 columns. Curse of dimensionality!  \n",
        "This feature is recommended to be removed."
      ],
      "metadata": {
        "id": "HnySUlbAi22w"
      }
    },
    {
      "cell_type": "markdown",
      "source": [
        "### **os**"
      ],
      "metadata": {
        "id": "5kSfO8LqkUhG"
      }
    },
    {
      "cell_type": "code",
      "source": [
        "# Number of unique operating system\n",
        "df.os.nunique()"
      ],
      "metadata": {
        "id": "IbG1nIKr1Buf",
        "colab": {
          "base_uri": "https://localhost:8080/"
        },
        "outputId": "d1b0eb13-a1b0-4d79-c46a-309059162075"
      },
      "execution_count": 50,
      "outputs": [
        {
          "output_type": "execute_result",
          "data": {
            "text/plain": [
              "3"
            ]
          },
          "metadata": {},
          "execution_count": 50
        }
      ]
    },
    {
      "cell_type": "code",
      "source": [
        "# How frequent is each OS\n",
        "df.os.value_counts()"
      ],
      "metadata": {
        "colab": {
          "base_uri": "https://localhost:8080/"
        },
        "id": "oWRSMUsWke6C",
        "outputId": "0d2d3330-a993-4518-92f8-297f93e817bd"
      },
      "execution_count": 51,
      "outputs": [
        {
          "output_type": "execute_result",
          "data": {
            "text/plain": [
              "Android    2923\n",
              "iOS         858\n",
              "iPadOS        5\n",
              "Name: os, dtype: int64"
            ]
          },
          "metadata": {},
          "execution_count": 51
        }
      ]
    },
    {
      "cell_type": "code",
      "source": [
        "# iPadOS should be clubbed with iOS since both have the same parent\n",
        "df.os = df.os.replace('iPadOS','iOS')\n",
        "df.os.value_counts()"
      ],
      "metadata": {
        "colab": {
          "base_uri": "https://localhost:8080/"
        },
        "id": "lPQrTU9DkhNb",
        "outputId": "2044de16-393b-4b7a-ac3d-c4674338f696"
      },
      "execution_count": 52,
      "outputs": [
        {
          "output_type": "execute_result",
          "data": {
            "text/plain": [
              "Android    2923\n",
              "iOS         863\n",
              "Name: os, dtype: int64"
            ]
          },
          "metadata": {},
          "execution_count": 52
        }
      ]
    },
    {
      "cell_type": "code",
      "source": [
        "df.os.value_counts('a')"
      ],
      "metadata": {
        "colab": {
          "base_uri": "https://localhost:8080/"
        },
        "id": "O-WAevellGCL",
        "outputId": "b34a4e4e-9a47-427d-c6eb-08064758bd05"
      },
      "execution_count": 53,
      "outputs": [
        {
          "output_type": "execute_result",
          "data": {
            "text/plain": [
              "Android    0.772055\n",
              "iOS        0.227945\n",
              "Name: os, dtype: float64"
            ]
          },
          "metadata": {},
          "execution_count": 53
        }
      ]
    },
    {
      "cell_type": "code",
      "source": [
        "df.os.value_counts().plot(kind='barh', color='grey');"
      ],
      "metadata": {
        "colab": {
          "base_uri": "https://localhost:8080/",
          "height": 265
        },
        "id": "nfbRFzxrlKUC",
        "outputId": "2773973a-195d-4532-b4e6-1434bcae0cac"
      },
      "execution_count": 54,
      "outputs": [
        {
          "output_type": "display_data",
          "data": {
            "text/plain": [
              "<Figure size 432x288 with 1 Axes>"
            ],
            "image/png": "[encoded data removed]"
          },
          "metadata": {
            "needs_background": "light"
          }
        }
      ]
    },
    {
      "cell_type": "markdown",
      "source": [
        "\n",
        "\n",
        "iOS was used just 23% of the time, while Android was used 77% of the time.  \n",
        "Intuition says that Android has a much higher probability of fraud than does iOS."
      ],
      "metadata": {
        "id": "zopBjmnNlQYk"
      }
    },
    {
      "cell_type": "markdown",
      "source": [
        "### **device_model**"
      ],
      "metadata": {
        "id": "N_IPM72ql8le"
      }
    },
    {
      "cell_type": "code",
      "source": [
        "df.device_model.nunique()"
      ],
      "metadata": {
        "colab": {
          "base_uri": "https://localhost:8080/"
        },
        "id": "5aJe29UvlOxz",
        "outputId": "9bca261b-5a65-420a-d46c-19c38ced595e"
      },
      "execution_count": 55,
      "outputs": [
        {
          "output_type": "execute_result",
          "data": {
            "text/plain": [
              "114"
            ]
          },
          "metadata": {},
          "execution_count": 55
        }
      ]
    },
    {
      "cell_type": "code",
      "source": [
        "df.device_model.value_counts().nlargest(15).plot(kind='barh', color='grey');"
      ],
      "metadata": {
        "colab": {
          "base_uri": "https://localhost:8080/",
          "height": 265
        },
        "id": "d6hW5Y4ImA-7",
        "outputId": "9587057d-4995-4e85-cd26-6c8104bbdfab"
      },
      "execution_count": 56,
      "outputs": [
        {
          "output_type": "display_data",
          "data": {
            "text/plain": [
              "<Figure size 432x288 with 1 Axes>"
            ],
            "image/png": "[encoded data removed]"
          },
          "metadata": {
            "needs_background": "light"
          }
        }
      ]
    },
    {
      "cell_type": "code",
      "source": [
        "df['model_name'] = df.device_model.str.split(' ').str[0]\n",
        "\n",
        "df.model_name.value_counts()"
      ],
      "metadata": {
        "id": "cIMz42ZRmHYq",
        "colab": {
          "base_uri": "https://localhost:8080/"
        },
        "outputId": "144fc468-fe2b-46eb-98db-767e7622e25d"
      },
      "execution_count": 57,
      "outputs": [
        {
          "output_type": "execute_result",
          "data": {
            "text/plain": [
              "iPhone        858\n",
              "Xiaomi        837\n",
              "Samsung       709\n",
              "HUAWEI        546\n",
              "TECNO         236\n",
              "Lenovo         88\n",
              "Trifone        84\n",
              "Asus           59\n",
              "Google         50\n",
              "Realme         48\n",
              "INFINIX        44\n",
              "Vivo           38\n",
              "ONEPLUS        31\n",
              "Cherry         28\n",
              "10.or          22\n",
              "OnePlus        21\n",
              "Proscan        16\n",
              "TP-Link        15\n",
              "Blackview      15\n",
              "ZTE            10\n",
              "ASUS_Z01QD     10\n",
              "Meizu           9\n",
              "DEXP            6\n",
              "iPad            5\n",
              "UMIDIGI         1\n",
              "Name: model_name, dtype: int64"
            ]
          },
          "metadata": {},
          "execution_count": 57
        }
      ]
    },
    {
      "cell_type": "code",
      "source": [
        "df.model_name.value_counts().nlargest(15).plot(kind='barh', color='grey');"
      ],
      "metadata": {
        "colab": {
          "base_uri": "https://localhost:8080/",
          "height": 265
        },
        "id": "QZ5dAxHKKRL1",
        "outputId": "82e32c23-134b-4ff6-d109-4cd98ae3cba3"
      },
      "execution_count": 58,
      "outputs": [
        {
          "output_type": "display_data",
          "data": {
            "text/plain": [
              "<Figure size 432x288 with 1 Axes>"
            ],
            "image/png": "[encoded data removed]"
          },
          "metadata": {
            "needs_background": "light"
          }
        }
      ]
    },
    {
      "cell_type": "code",
      "source": [
        "\n",
        "df.columns"
      ],
      "metadata": {
        "id": "KpIZmNiOKZby",
        "colab": {
          "base_uri": "https://localhost:8080/"
        },
        "outputId": "04b911bc-be12-497e-bdd7-fdfbe41c1673"
      },
      "execution_count": 59,
      "outputs": [
        {
          "output_type": "execute_result",
          "data": {
            "text/plain": [
              "Index(['customer_id', 'event_dttm_Deli', 'event_type_nm',\n",
              "       'client_defined_event_type_nm', 'event_desc',\n",
              "       'operaton_amt_100 (rupees)', 'active phone call',\n",
              "       'remote desktop protokol', 'emulator', 'f', 'device_id', 'os',\n",
              "       'device_model', 'screensize', 'agentconnectiontype', 'screen_hash',\n",
              "       'device for user', 'reciever', 'password change', 'fast change of ip',\n",
              "       'ip not equal to previous', 'day_of_week', 'hour', 'session',\n",
              "       'active phone call str', 'remote desktop protokol str', 'emulator str',\n",
              "       'country', 'model_name'],\n",
              "      dtype='object')"
            ]
          },
          "metadata": {},
          "execution_count": 59
        }
      ]
    },
    {
      "cell_type": "code",
      "source": [
        "df['model2'] = np.where((df['model_name'].isin(['iPhone','Xiaomi','Samsung','HUAWEI','TECNO'])|df.model_name.isnull()),df['model_name'],'Other')\n",
        "df['model2'].value_counts()"
      ],
      "metadata": {
        "colab": {
          "base_uri": "https://localhost:8080/"
        },
        "id": "amSqEbLTNoyC",
        "outputId": "e916fc05-0bc4-4ce9-b835-039bd2a46309"
      },
      "execution_count": 60,
      "outputs": [
        {
          "output_type": "execute_result",
          "data": {
            "text/plain": [
              "iPhone     858\n",
              "Xiaomi     837\n",
              "Samsung    709\n",
              "Other      600\n",
              "HUAWEI     546\n",
              "TECNO      236\n",
              "Name: model2, dtype: int64"
            ]
          },
          "metadata": {},
          "execution_count": 60
        }
      ]
    },
    {
      "cell_type": "markdown",
      "source": [
        "### **screensize**"
      ],
      "metadata": {
        "id": "iveZs7NRLRud"
      }
    },
    {
      "cell_type": "code",
      "source": [
        "df.screensize.nunique()"
      ],
      "metadata": {
        "colab": {
          "base_uri": "https://localhost:8080/"
        },
        "id": "ks-OMjszLEtB",
        "outputId": "af78f50c-d4f9-4cc1-a01d-76261993271a"
      },
      "execution_count": 61,
      "outputs": [
        {
          "output_type": "execute_result",
          "data": {
            "text/plain": [
              "92"
            ]
          },
          "metadata": {},
          "execution_count": 61
        }
      ]
    },
    {
      "cell_type": "code",
      "source": [
        "df.screensize.value_counts().nlargest(15).plot(kind='barh', color='grey');"
      ],
      "metadata": {
        "colab": {
          "base_uri": "https://localhost:8080/",
          "height": 265
        },
        "id": "mvXZVKlMLZOn",
        "outputId": "067a5a02-e79a-4823-80e5-19d3bb1b9a37"
      },
      "execution_count": 62,
      "outputs": [
        {
          "output_type": "display_data",
          "data": {
            "text/plain": [
              "<Figure size 432x288 with 1 Axes>"
            ],
            "image/png": "[encoded data removed]"
          },
          "metadata": {
            "needs_background": "light"
          }
        }
      ]
    },
    {
      "cell_type": "markdown",
      "source": [
        "Too many features to draw any significant insights from. We see here that 414 x 896 have relatively higher events. That is simply because that is phone screen size. And phones are mostly on, unlike laptops or computers."
      ],
      "metadata": {
        "id": "ewzPmYROLhSH"
      }
    },
    {
      "cell_type": "markdown",
      "source": [
        "### **Agent Connection Type**"
      ],
      "metadata": {
        "id": "ZSTuztQ8L44t"
      }
    },
    {
      "cell_type": "code",
      "source": [
        "df.agentconnectiontype.nunique()"
      ],
      "metadata": {
        "colab": {
          "base_uri": "https://localhost:8080/"
        },
        "id": "8hWYRE7dLc5J",
        "outputId": "75be8d52-a39a-4e8a-c1fb-9098a28bc5bf"
      },
      "execution_count": 63,
      "outputs": [
        {
          "output_type": "execute_result",
          "data": {
            "text/plain": [
              "2"
            ]
          },
          "metadata": {},
          "execution_count": 63
        }
      ]
    },
    {
      "cell_type": "code",
      "source": [
        "df.agentconnectiontype.value_counts().plot(kind='barh', color='grey');"
      ],
      "metadata": {
        "colab": {
          "base_uri": "https://localhost:8080/",
          "height": 265
        },
        "id": "19RSG2klL-X2",
        "outputId": "16339f59-0fe3-42cc-eada-eab7eed18678"
      },
      "execution_count": 64,
      "outputs": [
        {
          "output_type": "display_data",
          "data": {
            "text/plain": [
              "<Figure size 432x288 with 1 Axes>"
            ],
            "image/png": "[encoded data removed]"
          },
          "metadata": {
            "needs_background": "light"
          }
        }
      ]
    },
    {
      "cell_type": "markdown",
      "source": [
        "This feature may be of use. Cellular data implies public connection. Wifi is connected to your home router. Hence the possibility of fraud from cellular may be high."
      ],
      "metadata": {
        "id": "4QetwvrtMIDs"
      }
    },
    {
      "cell_type": "markdown",
      "source": [
        "### **Screen hash**"
      ],
      "metadata": {
        "id": "JG318ThVMgl9"
      }
    },
    {
      "cell_type": "code",
      "source": [
        "df.screen_hash.nunique()"
      ],
      "metadata": {
        "colab": {
          "base_uri": "https://localhost:8080/"
        },
        "id": "dkdCxH8hMD4F",
        "outputId": "ce4d884e-5c7f-4d55-8eaf-d1cc56e648dd"
      },
      "execution_count": 65,
      "outputs": [
        {
          "output_type": "execute_result",
          "data": {
            "text/plain": [
              "115"
            ]
          },
          "metadata": {},
          "execution_count": 65
        }
      ]
    },
    {
      "cell_type": "code",
      "source": [
        "df.screen_hash.value_counts().nlargest(15).plot(kind='barh', color='grey');"
      ],
      "metadata": {
        "colab": {
          "base_uri": "https://localhost:8080/",
          "height": 265
        },
        "id": "T9gpk5ZyMml9",
        "outputId": "0860e65f-6bdb-4c44-d206-b0a8c4602ed6"
      },
      "execution_count": 66,
      "outputs": [
        {
          "output_type": "display_data",
          "data": {
            "text/plain": [
              "<Figure size 432x288 with 1 Axes>"
            ],
            "image/png": "[encoded data removed]"
          },
          "metadata": {
            "needs_background": "light"
          }
        }
      ]
    },
    {
      "cell_type": "markdown",
      "source": [
        "Not sure how to correlate this to fraud. Screenhash is simply a numeric representation of what a screen looked like at that event (point in time)."
      ],
      "metadata": {
        "id": "J73TbDWiM3TM"
      }
    },
    {
      "cell_type": "markdown",
      "source": [
        "### **device for user**"
      ],
      "metadata": {
        "id": "QM6G0oRnNWx-"
      }
    },
    {
      "cell_type": "code",
      "source": [
        "df['device for user'].nunique()"
      ],
      "metadata": {
        "colab": {
          "base_uri": "https://localhost:8080/"
        },
        "id": "OYb3HQtDNUE8",
        "outputId": "e255038e-60da-4cd1-c62a-bfe2a7d0f5d6"
      },
      "execution_count": 67,
      "outputs": [
        {
          "output_type": "execute_result",
          "data": {
            "text/plain": [
              "2"
            ]
          },
          "metadata": {},
          "execution_count": 67
        }
      ]
    },
    {
      "cell_type": "code",
      "source": [
        "df['device for user'].value_counts().plot(kind='barh', color='grey');"
      ],
      "metadata": {
        "colab": {
          "base_uri": "https://localhost:8080/",
          "height": 265
        },
        "id": "LFlxKp2NNbkO",
        "outputId": "1a76788d-e0d0-4e13-a700-ce6db4496d5e"
      },
      "execution_count": 68,
      "outputs": [
        {
          "output_type": "display_data",
          "data": {
            "text/plain": [
              "<Figure size 432x288 with 1 Axes>"
            ],
            "image/png": "[encoded data removed]"
          },
          "metadata": {
            "needs_background": "light"
          }
        }
      ]
    },
    {
      "cell_type": "markdown",
      "source": [
        "### **receiver**"
      ],
      "metadata": {
        "id": "07ttyb0UNxkz"
      }
    },
    {
      "cell_type": "code",
      "source": [
        "df.reciever.nunique()"
      ],
      "metadata": {
        "colab": {
          "base_uri": "https://localhost:8080/"
        },
        "id": "I7R-0UmONfeK",
        "outputId": "dfcdc81d-61e0-4b11-fe8d-114d44c2a59d"
      },
      "execution_count": 69,
      "outputs": [
        {
          "output_type": "execute_result",
          "data": {
            "text/plain": [
              "2"
            ]
          },
          "metadata": {},
          "execution_count": 69
        }
      ]
    },
    {
      "cell_type": "code",
      "source": [
        "df.reciever.value_counts().plot(kind='barh', color='grey');"
      ],
      "metadata": {
        "colab": {
          "base_uri": "https://localhost:8080/",
          "height": 265
        },
        "id": "FifyNoggN16m",
        "outputId": "8720cd8a-4093-4065-dc02-3e069789650a"
      },
      "execution_count": 70,
      "outputs": [
        {
          "output_type": "display_data",
          "data": {
            "text/plain": [
              "<Figure size 432x288 with 1 Axes>"
            ],
            "image/png": "[encoded data removed]"
          },
          "metadata": {
            "needs_background": "light"
          }
        }
      ]
    },
    {
      "cell_type": "markdown",
      "source": [
        "Receiver? "
      ],
      "metadata": {
        "id": "XKlfe0hmOBwX"
      }
    },
    {
      "cell_type": "markdown",
      "source": [
        "### **password change**"
      ],
      "metadata": {
        "id": "QbY1BFT8OSEp"
      }
    },
    {
      "cell_type": "code",
      "source": [
        "df['password change'].nunique()"
      ],
      "metadata": {
        "colab": {
          "base_uri": "https://localhost:8080/"
        },
        "id": "fzjvxIdcN6Yl",
        "outputId": "fe3c0084-7eab-4433-9e2d-65b7f3894f35"
      },
      "execution_count": 71,
      "outputs": [
        {
          "output_type": "execute_result",
          "data": {
            "text/plain": [
              "1"
            ]
          },
          "metadata": {},
          "execution_count": 71
        }
      ]
    },
    {
      "cell_type": "code",
      "source": [
        "df['password change'].value_counts(dropna=False).plot(kind='barh', color='grey');"
      ],
      "metadata": {
        "colab": {
          "base_uri": "https://localhost:8080/",
          "height": 265
        },
        "id": "mvYSI62AOYko",
        "outputId": "c109893f-4e41-4be1-9b3d-004b93c7dc7a"
      },
      "execution_count": 72,
      "outputs": [
        {
          "output_type": "display_data",
          "data": {
            "text/plain": [
              "<Figure size 432x288 with 1 Axes>"
            ],
            "image/png": "[encoded data removed]"
          },
          "metadata": {
            "needs_background": "light"
          }
        }
      ]
    },
    {
      "cell_type": "markdown",
      "source": [
        "### **Fast change of IP**"
      ],
      "metadata": {
        "id": "2pM3rKcyOptH"
      }
    },
    {
      "cell_type": "code",
      "source": [
        "df['fast change of ip'].nunique()"
      ],
      "metadata": {
        "colab": {
          "base_uri": "https://localhost:8080/"
        },
        "id": "sDKz7CpKOcWp",
        "outputId": "861d2d94-d76c-40dd-d968-e684f094e50f"
      },
      "execution_count": 73,
      "outputs": [
        {
          "output_type": "execute_result",
          "data": {
            "text/plain": [
              "1"
            ]
          },
          "metadata": {},
          "execution_count": 73
        }
      ]
    },
    {
      "cell_type": "code",
      "source": [
        "df['fast change of ip'].value_counts(dropna=False).plot(kind='barh', color='grey');"
      ],
      "metadata": {
        "colab": {
          "base_uri": "https://localhost:8080/",
          "height": 265
        },
        "id": "CpdI7JF6OxUj",
        "outputId": "3ff4a916-45e2-4a99-b7a0-21b27af9df32"
      },
      "execution_count": 74,
      "outputs": [
        {
          "output_type": "display_data",
          "data": {
            "text/plain": [
              "<Figure size 432x288 with 1 Axes>"
            ],
            "image/png": "[encoded data removed]"
          },
          "metadata": {
            "needs_background": "light"
          }
        }
      ]
    },
    {
      "cell_type": "markdown",
      "source": [
        "### **ip not equal to previous**"
      ],
      "metadata": {
        "id": "VeeoNeVfPDZb"
      }
    },
    {
      "cell_type": "code",
      "source": [
        "df['ip not equal to previous'].nunique()"
      ],
      "metadata": {
        "colab": {
          "base_uri": "https://localhost:8080/"
        },
        "id": "hFKk2iXMO0tA",
        "outputId": "e70c1885-2e04-49df-c62c-4b416596556d"
      },
      "execution_count": 75,
      "outputs": [
        {
          "output_type": "execute_result",
          "data": {
            "text/plain": [
              "1"
            ]
          },
          "metadata": {},
          "execution_count": 75
        }
      ]
    },
    {
      "cell_type": "code",
      "source": [
        "df['ip not equal to previous'].value_counts(dropna=False).plot(kind='barh', color='grey');"
      ],
      "metadata": {
        "colab": {
          "base_uri": "https://localhost:8080/",
          "height": 265
        },
        "id": "UR8MueZJPVhS",
        "outputId": "363745b2-5af2-4935-c3a2-020d2ea46d2f"
      },
      "execution_count": 76,
      "outputs": [
        {
          "output_type": "display_data",
          "data": {
            "text/plain": [
              "<Figure size 432x288 with 1 Axes>"
            ],
            "image/png": "[encoded data removed]"
          },
          "metadata": {
            "needs_background": "light"
          }
        }
      ]
    },
    {
      "cell_type": "markdown",
      "source": [
        "## END\n",
        "\n",
        "\n"
      ],
      "metadata": {
        "id": "OML7tZC9PgEu"
      }
    }
  ]
}